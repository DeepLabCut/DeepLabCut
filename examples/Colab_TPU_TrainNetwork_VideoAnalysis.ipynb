{
  "nbformat": 4,
  "nbformat_minor": 0,
  "metadata": {
    "colab": {
      "name": "Colab_TPU_TrainNetwork_VideoAnalysis.ipynb",
      "version": "0.3.2",
      "provenance": [],
      "private_outputs": true,
      "collapsed_sections": [],
      "toc_visible": true
    },
    "kernelspec": {
      "name": "python3",
      "display_name": "Python 3"
    },
    "accelerator": "TPU"
  },
  "cells": [
    {
      "metadata": {
        "id": "RK255E7YoEIt",
        "colab_type": "text"
      },
      "cell_type": "markdown",
      "source": [
        "# DeepLabCut Toolbox - Colab w/TPU\n",
        "https://github.com/AlexEMG/DeepLabCut\n",
        "\n",
        "Nath\\*, Mathis\\* et al. *Using DeepLabCut for markerless pose estimation during behavior across species*, (under revision).\n",
        "\n",
        "This notebook demonstrates the necessary steps to use DeepLabCut for your own project.\n",
        "This shows the most simple code to do so, but many of the functions have additional features, so please check out the overview & the protocol paper!\n",
        "\n",
        "This notebook illustrates how to use the cloud to:\n",
        "- train a network\n",
        "- evaluate a network\n",
        "- analyze a novel video\n",
        "\n",
        "This assumes you already have a project folder with labeled data! \n",
        "\n",
        "Also, we notice that TPU analysis is quite slow compared to Colab GPU and desktop GPUs, such as 1080 Ti and TITAN Xp!\n"
      ]
    },
    {
      "metadata": {
        "id": "txoddlM8hLKm",
        "colab_type": "text"
      },
      "cell_type": "markdown",
      "source": [
        "## Let's look at info about the Colab Environment:\n"
      ]
    },
    {
      "metadata": {
        "id": "4C5WRoS9g5Od",
        "colab_type": "code",
        "colab": {}
      },
      "cell_type": "code",
      "source": [
        "!nvcc --version"
      ],
      "execution_count": 0,
      "outputs": []
    },
    {
      "metadata": {
        "id": "HxVNyimFp-PJ",
        "colab_type": "code",
        "colab": {}
      },
      "cell_type": "code",
      "source": [
        "import tensorflow as tf\n",
        "tf.__version__\n"
      ],
      "execution_count": 0,
      "outputs": []
    },
    {
      "metadata": {
        "id": "Pm_PC1Q8lRrH",
        "colab_type": "code",
        "colab": {}
      },
      "cell_type": "code",
      "source": [
        "#let's make sure we see a TPU:\n",
        "import os\n",
        "import pprint\n",
        "import tensorflow as tf\n",
        "\n",
        "if 'COLAB_TPU_ADDR' not in os.environ:\n",
        "  print('ERROR: Not connected to a TPU runtime; please see the first cell in this notebook for instructions!')\n",
        "else:\n",
        "  tpu_address = 'grpc://' + os.environ['COLAB_TPU_ADDR']\n",
        "  print ('TPU address is', tpu_address)\n",
        "\n",
        "  with tf.Session(tpu_address) as session:\n",
        "    devices = session.list_devices()\n",
        "    \n",
        "  print('TPU devices:')\n",
        "  pprint.pprint(devices)\n"
      ],
      "execution_count": 0,
      "outputs": []
    },
    {
      "metadata": {
        "id": "KS4Q4UkR9rgG",
        "colab_type": "code",
        "colab": {}
      },
      "cell_type": "code",
      "source": [
        "#Colab only - to link to your GoogleDrive, run this cell and follow the authorization instructions:\n",
        "#(We recommend putting a copy of github repo as a folder in your google drive)\n",
        "\n",
        "from google.colab import drive\n",
        "drive.mount('/content/drive')"
      ],
      "execution_count": 0,
      "outputs": []
    },
    {
      "metadata": {
        "id": "q23BzhA6CXxu",
        "colab_type": "code",
        "colab": {}
      },
      "cell_type": "code",
      "source": [
        "#in colab: go to your deeplabcut folder\n",
        "%cd /content/drive/My Drive/DeepLabCut\n",
        "\n",
        "\n",
        "!pip install deeplabcut"
      ],
      "execution_count": 0,
      "outputs": []
    },
    {
      "metadata": {
        "id": "sXufoX6INe6w",
        "colab_type": "code",
        "colab": {}
      },
      "cell_type": "code",
      "source": [
        "#GUIs don't work on the cloud, so label your data locally on your computer! \n",
        "import os\n",
        "os.environ[\"DLClight\"]=\"True\"\n",
        "os.environ[\"Colab\"]=\"True\""
      ],
      "execution_count": 0,
      "outputs": []
    },
    {
      "metadata": {
        "id": "3K9Ndy1beyfG",
        "colab_type": "code",
        "colab": {}
      },
      "cell_type": "code",
      "source": [
        "# now we are ready to train!\n",
        "import deeplabcut\n",
        "\n",
        "#sometimes the backend kernel is defaulting to something other than what we want\n",
        "#if you see the warnings, you can re-run this cell and they go way, as we re-set the backend! :) \n",
        "\n",
        "#possible warning--> UserWarning: This call to matplotlib.use() has no effect because the backend has already\n",
        "#been chosen; matplotlib.use() must be called *before* pylab, matplotlib.pyplot, or matplotlib.backends is imported for the first time."
      ],
      "execution_count": 0,
      "outputs": []
    },
    {
      "metadata": {
        "id": "Z7ZlDr3wV4D1",
        "colab_type": "code",
        "colab": {}
      },
      "cell_type": "code",
      "source": [
        "path_config_file = '/content/drive/My Drive/DeepLabCut/examples/Reaching-Mackenzie-2018-08-30/config.yaml' #change to yours!"
      ],
      "execution_count": 0,
      "outputs": []
    },
    {
      "metadata": {
        "id": "xNi9s1dboEJN",
        "colab_type": "text"
      },
      "cell_type": "markdown",
      "source": [
        "## Create a training dataset\n",
        "This function generates the training data information for DeepCut (which requires a mat file) based on the pandas dataframes that hold label information. The user can set the fraction of the training set size (from all labeled image in the hd5 file) in the config.yaml file. While creating the dataset, the user can create multiple shuffles. \n",
        "\n",
        "After running this script the training dataset is created and saved in the project directory under the subdirectory **'training-datasets'**\n",
        "\n",
        "This function also creates new subdirectories under **dlc-models** and appends the project config.yaml file with the correct path to the training and testing pose configuration file. These files hold the parameters for training the network. Such an example file is provided with the toolbox and named as **pose_cfg.yaml**.\n",
        "\n",
        "Now it is the time to start training the network!"
      ]
    },
    {
      "metadata": {
        "id": "EjwnYPfmIRlo",
        "colab_type": "text"
      },
      "cell_type": "markdown",
      "source": [
        "**CHANGE YOUR PROJECT PATH IN CONFIG!!!**"
      ]
    },
    {
      "metadata": {
        "scrolled": true,
        "id": "eMeUwgxPoEJP",
        "colab_type": "code",
        "colab": {}
      },
      "cell_type": "code",
      "source": [
        "#If you didn't run this already... \n",
        "#And if you DID, you will get errors, as you need to delete the created folder first - they will not be overwritten! (i.e. delete \"dlc-models\")\n",
        "#deeplabcut.create_training_dataset(path_config_file,Shuffles=[1])"
      ],
      "execution_count": 0,
      "outputs": []
    },
    {
      "metadata": {
        "id": "c4FczXGDoEJU",
        "colab_type": "text"
      },
      "cell_type": "markdown",
      "source": [
        "## Start training\n",
        "This function trains the network for a specific shuffle of the training dataset. "
      ]
    },
    {
      "metadata": {
        "id": "_pOvDq_2oEJW",
        "colab_type": "code",
        "colab": {}
      },
      "cell_type": "code",
      "source": [
        "#let's also change the display and save_iters just in case Colab takes away the GPU... \n",
        "#if that happens, you can reload from a saved point. Typically, you want to train to 200,000 + iterations.\n",
        "#more infor, and there are more things you can set: https://github.com/AlexEMG/DeepLabCut/blob/master/docs/functionDetails.md#g-train-the-network\n",
        "\n",
        "deeplabcut.train_network(path_config_file, shuffle=1, displayiters=10,saveiters=500)\n",
        "\n",
        "#this will run until you stop it (CTRL+C), or hit \"STOP\" icon, or when it hits the end (default, 1.03M iterations). \n",
        "#Whichever you chose, you will see what looks like an error message, but it's not an error - don't worry...."
      ],
      "execution_count": 0,
      "outputs": []
    },
    {
      "metadata": {
        "id": "xZygsb2DoEJc",
        "colab_type": "text"
      },
      "cell_type": "markdown",
      "source": [
        "## Start evaluating\n",
        "This funtion evaluates a trained model for a specific shuffle/shuffles at a particular state or all the states on the data set (images)\n",
        "and stores the results as .csv file in a subdirectory under **evaluation-results**"
      ]
    },
    {
      "metadata": {
        "id": "IjyHR9TcOnsD",
        "colab_type": "code",
        "colab": {}
      },
      "cell_type": "code",
      "source": [
        "#this is a colab specific work-around, but it works!\n",
        "\n",
        "!pip install Pillow==4.0.0\n",
        "\n",
        "from PIL import Image\n",
        "def register_extension(id, extension): Image.EXTENSION[extension.lower()] = id.upper()\n",
        "Image.register_extension = register_extension\n",
        "def register_extensions(id, extensions): \n",
        "  for extension in extensions: register_extension(id, extension)\n",
        "Image.register_extensions = register_extensions"
      ],
      "execution_count": 0,
      "outputs": []
    },
    {
      "metadata": {
        "id": "nv4zlbrnoEJg",
        "colab_type": "code",
        "colab": {}
      },
      "cell_type": "code",
      "source": [
        "deeplabcut.evaluate_network(path_config_file,Shuffles=[1],plotting=True)\n",
        "\n",
        "# Here you want to see a low pixel error! Of course, it can only be as good as the labeler, so be sure your labels are good!"
      ],
      "execution_count": 0,
      "outputs": []
    },
    {
      "metadata": {
        "id": "BaLBl3TQtrfB",
        "colab_type": "text"
      },
      "cell_type": "markdown",
      "source": [
        "## There is an optional refinement step\n",
        "- if your pixel errors are not low enough, please check out the protocol guide on how to refine your network!\n",
        "- You will need to adjust the labels **outside of Colab!** We recommend coming back to train and analyze videos... \n",
        "- pplease see the repo and protocol instructions on how to refine your data!"
      ]
    },
    {
      "metadata": {
        "id": "OVFLSKKfoEJk",
        "colab_type": "text"
      },
      "cell_type": "markdown",
      "source": [
        "## Start Analyzing videos\n",
        "This function analyzes the new video. The user can choose the best model from the evaluation results and specify the correct snapshot index for the variable **snapshotindex** in the **config.yaml** file. Otherwise, by default the most recent snapshot is used to analyse the video.\n",
        "\n",
        "The results are stored in hd5 file in the same directory where the video resides. "
      ]
    },
    {
      "metadata": {
        "id": "Y_LZiS_0oEJl",
        "colab_type": "code",
        "colab": {}
      },
      "cell_type": "code",
      "source": [
        "videofile_path = ['/content/drive/My Drive/DeepLabCut/examples/Reaching-Mackenzie-2018-08-30/videos/MovieS2_Perturbation_noLaser_compressed.avi'] #Enter the list of videos to analyze.\n",
        "deeplabcut.analyze_videos(path_config_file,videofile_path)"
      ],
      "execution_count": 0,
      "outputs": []
    },
    {
      "metadata": {
        "id": "pCrUvQIvoEKD",
        "colab_type": "text"
      },
      "cell_type": "markdown",
      "source": [
        "## Create labeled video\n",
        "This funtion is for visualiztion purpose and can be used to create a video in .mp4 format with labels predicted by the network. This video is saved in the same directory where the original video resides. "
      ]
    },
    {
      "metadata": {
        "id": "6aDF7Q7KoEKE",
        "colab_type": "code",
        "colab": {}
      },
      "cell_type": "code",
      "source": [
        "deeplabcut.create_labeled_video(path_config_file,videofile_path)"
      ],
      "execution_count": 0,
      "outputs": []
    },
    {
      "metadata": {
        "id": "8GTiuJESoEKH",
        "colab_type": "text"
      },
      "cell_type": "markdown",
      "source": [
        "## Plot the trajectories of the analyzed videos\n",
        "This function plots the trajectories of all the body parts across the entire video. Each body part is identified by a unique color."
      ]
    },
    {
      "metadata": {
        "id": "gX21zZbXoEKJ",
        "colab_type": "code",
        "colab": {}
      },
      "cell_type": "code",
      "source": [
        "%matplotlib notebook \n",
        "#for making interactive plots.\n",
        "deeplabcut.plot_trajectories(path_config_file,videofile_path)"
      ],
      "execution_count": 0,
      "outputs": []
    }
  ]
}