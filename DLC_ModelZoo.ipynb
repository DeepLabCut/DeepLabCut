{
  "nbformat": 4,
  "nbformat_minor": 0,
  "metadata": {
    "colab": {
      "name": "DLC_ModelZoo.ipynb",
      "provenance": [],
      "collapsed_sections": [],
      "toc_visible": true,
      "include_colab_link": true
    },
    "kernelspec": {
      "name": "python3",
      "display_name": "Python 3"
    },
    "accelerator": "GPU"
  },
  "cells": [
    {
      "cell_type": "markdown",
      "metadata": {
        "id": "view-in-github",
        "colab_type": "text"
      },
      "source": [
        "<a href=\"https://colab.research.google.com/github/AlexEMG/DLCdev/blob/master/DLC_ModelZoo.ipynb\" target=\"_parent\"><img src=\"https://colab.research.google.com/assets/colab-badge.svg\" alt=\"Open In Colab\"/></a>"
      ]
    },
    {
      "cell_type": "markdown",
      "metadata": {
        "id": "RK255E7YoEIt",
        "colab_type": "text"
      },
      "source": [
        "# **DeepLabCut Model Zoo:**\n",
        "\n",
        "http://www.mousemotorlab.org/dlc-modelzoo\n",
        "\n",
        "You can use this notebook to analyze videos with pretrained networks - NO installation of DeepLabCut is needed! \n",
        "\n",
        "- **What you need:** a video of your favorite dog, cat, etc: check the list of currently available models here: http://www.mousemotorlab.org/dlc-modelzoo \n",
        "\n",
        "- *What to do:* hit run on each cell below and follow the instructions!\n",
        "\n",
        "- *If you performance is less that you would like, plesae consider labeling data to help make each network even better! See instructions here: http://www.mousemotorlab.org/dlc-modelzoo - this is our great experiment on community-sourced open-science for the masses! \n",
        "\n",
        "\n",
        "\n",
        "Let's get going! \n",
        "\n",
        "## **First: let's install DeepLabCut into COLAB:**"
      ]
    },
    {
      "cell_type": "code",
      "metadata": {
        "id": "q23BzhA6CXxu",
        "colab_type": "code",
        "colab": {}
      },
      "source": [
        "#click the play icon (this will take a few minutes to install all the dependences!)\n",
        "!pip install deeplabcut"
      ],
      "execution_count": 0,
      "outputs": []
    },
    {
      "cell_type": "markdown",
      "metadata": {
        "id": "25wSj6TlVclR",
        "colab_type": "text"
      },
      "source": [
        " *Please click the button ^^^^ RESART RUNTIME ^^^^*"
      ]
    },
    {
      "cell_type": "code",
      "metadata": {
        "id": "Jw4xz2xy2dAo",
        "colab_type": "code",
        "outputId": "6781406b-e615-4fed-bdc1-2db84df73bc6",
        "colab": {
          "base_uri": "https://localhost:8080/",
          "height": 34
        }
      },
      "source": [
        "# Use TensorFlow 1.x:\n",
        "%tensorflow_version 1.x"
      ],
      "execution_count": 0,
      "outputs": [
        {
          "output_type": "stream",
          "text": [
            "TensorFlow 1.x selected.\n"
          ],
          "name": "stdout"
        }
      ]
    },
    {
      "cell_type": "markdown",
      "metadata": {
        "id": "syweXs88tyuO",
        "colab_type": "text"
      },
      "source": [
        "## Next, run the cell below to upload your video file from your computer:"
      ]
    },
    {
      "cell_type": "code",
      "metadata": {
        "id": "7eqEZYs_CaLy",
        "colab_type": "code",
        "colab": {}
      },
      "source": [
        "from google.colab import files\n",
        "uploaded = files.upload()\n",
        "for fn in uploaded.keys():\n",
        "  print('User uploaded file \"{video_path}\" with length {length} bytes'.format(\n",
        "      video_path=fn, length=len(uploaded[fn])))\n",
        "  video_path = fn"
      ],
      "execution_count": 0,
      "outputs": []
    },
    {
      "cell_type": "markdown",
      "metadata": {
        "id": "YsaqOTkZtf-w",
        "colab_type": "text"
      },
      "source": [
        "## Run the cell below after you have edited it to be your project/video/model type:\n",
        "\n",
        "(note, this is the ONLY point you need to edit anything!)"
      ]
    },
    {
      "cell_type": "code",
      "metadata": {
        "id": "UV0QXswGCFrI",
        "colab_type": "code",
        "colab": {}
      },
      "source": [
        "ProjectFolderName = 'myDLCzooProject'\n",
        "YourName = 'teamDLC'\n",
        "model2use = 'dog' # see http://www.mousemotorlab.org/dlc-modelzoo for the list!\n",
        "videotype = 'mp4' #or MOV, or avi, whatever you uploaded!"
      ],
      "execution_count": 0,
      "outputs": []
    },
    {
      "cell_type": "markdown",
      "metadata": {
        "id": "49WrF8CMs0Ah",
        "colab_type": "text"
      },
      "source": [
        "## Now let's set the backend & import the DeepLabCut package:"
      ]
    },
    {
      "cell_type": "code",
      "metadata": {
        "id": "sXufoX6INe6w",
        "colab_type": "code",
        "colab": {}
      },
      "source": [
        "#GUIs don't work on the cloud, so we supress them:\n",
        "import os\n",
        "os.environ[\"DLClight\"]=\"True\"\n",
        "\n",
        "import deeplabcut"
      ],
      "execution_count": 0,
      "outputs": []
    },
    {
      "cell_type": "markdown",
      "metadata": {
        "id": "JQxko-t3uMVO",
        "colab_type": "text"
      },
      "source": [
        "### Please note, for optimal performance your videos should contain frames that are around ~300-600 pixels. If you have a larger video (like from an iPhone, first downsize byt running this please! :)\n",
        "\n",
        "**Thus, if you're using an iPhone, or such, you'll need to downsample the video first by running the code below**\n",
        "\n",
        "(no need to edit it unless you want to change the size)"
      ]
    },
    {
      "cell_type": "code",
      "metadata": {
        "id": "WpAX3BKY94e0",
        "colab_type": "code",
        "colab": {}
      },
      "source": [
        "deeplabcut.DownSampleVideo(video_path, width=300)\n",
        "\n",
        "import os\n",
        "from pathlib import Path\n",
        "videopath2=os.path.join(str(Path(video_path).stem)+'downsampled.'+videotype)\n",
        "print(videopath2)"
      ],
      "execution_count": 0,
      "outputs": []
    },
    {
      "cell_type": "markdown",
      "metadata": {
        "id": "KJm_Vbx-s5OY",
        "colab_type": "text"
      },
      "source": [
        "## Lastly, run th cell below to create a pretrained project, analyze your video with your selected pretrained network, plot trajectories, and create a labeled video!:\n",
        "\n",
        "** Note, if you did NOT downsample, change `videopath2` to `video_path`, then run this code block:"
      ]
    },
    {
      "cell_type": "code",
      "metadata": {
        "id": "T9MGgAdIFKPY",
        "colab_type": "code",
        "colab": {}
      },
      "source": [
        "deeplabcut.create_pretrained_project(Task, YourName, videopath2, videotype=videotype, model=model2use, analyzevideo=True, createlabeledvideo=True, copy_videos=True) #must leave copy_videos=True"
      ],
      "execution_count": 0,
      "outputs": []
    },
    {
      "cell_type": "markdown",
      "metadata": {
        "id": "WS-KxhBMvEBj",
        "colab_type": "text"
      },
      "source": [
        "Now, you can move this project from Colab (i.e. download it to your GoogleDrive), and use it like a normal standard project! \n",
        "\n",
        "You can analyze more videos, extract outliers, refine then, and/or then add new key points + label new frames, and retrain if desired. We hope this gives you a good launching point for your work!\n",
        "\n",
        "Happy DeepLabCutting! Welcome to the Zoo :)\n",
        "\n"
      ]
    }
  ]
}