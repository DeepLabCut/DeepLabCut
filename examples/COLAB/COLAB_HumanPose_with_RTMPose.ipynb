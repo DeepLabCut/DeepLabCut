{
  "cells": [
    {
      "cell_type": "markdown",
      "metadata": {
        "id": "t3P1R5BTwud1"
      },
      "source": [
        "<a href=\"https://colab.research.google.com/github/DeepLabCut/DeepLabCut/blob/main/examples/COLAB/COLAB_HumanPose_with_RTMPose.ipynb\" target=\"_parent\"><img src=\"https://colab.research.google.com/assets/colab-badge.svg\" alt=\"Open In Colab\"/></a>\n",
        "\n",
        "# DeepLabCut RTMPose human pose estimation demo"
      ]
    },
    {
      "cell_type": "markdown",
      "metadata": {
        "id": "tJm8QpTzyAEe"
      },
      "source": [
        "Some useful links:\n",
        "\n",
        "- DeepLabCut's GitHub: [github.com/DeepLabCut/DeepLabCut](https://github.com/DeepLabCut/DeepLabCut/tree/main)\n",
        "- DeepLabCut's Documentation: [deeplabcut.github.io/DeepLabCut](https://deeplabcut.github.io/DeepLabCut/README.html)\n",
        "\n",
        "This notebook illustrates how to use the cloud to run pose estimation on humans using a pre-trained [RTMPose](https://arxiv.org/abs/2303.07399) model. **⚠️Note: It uses DeepLabCut's low-level interface, so may be suited for more experienced users.⚠️**\n",
        "\n",
        "RTMPose is a top-down pose estimation model, which means that bounding boxes must be obtained for individuals (which is usually done through an [object detection model](https://en.wikipedia.org/wiki/Object_detection)) before running pose estimation. We obtain bounding boxes using a pre-trained object detector provided by [`torchvision`](https://pytorch.org/vision/main/models.html#object-detection-instance-segmentation-and-person-keypoint-detection).\n",
        "\n",
        "## Selecting the Runtime and Installing DeepLabCut\n",
        "\n",
        "**First, go to \"Runtime\" ->\"change runtime type\"->select \"Python3\", and then select \"GPU\".**\n",
        "\n",
        "Next, we need to install DeepLabCut and its dependencies."
      ]
    },
    {
      "cell_type": "code",
      "execution_count": null,
      "metadata": {
        "id": "Aj7Fgm0Xx_fS"
      },
      "outputs": [],
      "source": [
        "# this will take a couple of minutes to install all the dependencies!\n",
        "!pip install --pre deeplabcut"
      ]
    },
    {
      "cell_type": "markdown",
      "metadata": {
        "id": "twiCWHbgzbwH"
      },
      "source": [
        "**(Be sure to click \"RESTART RUNTIME\" if it is displayed above before moving on !) You will see this button at the output of the cells above ^.**"
      ]
    },
    {
      "cell_type": "markdown",
      "metadata": {
        "id": "x6DugzWMzGoj"
      },
      "source": [
        "## Importing Packages and Downloading Model Snapshots"
      ]
    },
    {
      "cell_type": "markdown",
      "metadata": {
        "id": "Y7jKbk_mzPJR"
      },
      "source": [
        "Next, we'll need to import `deeplabcut`, `huggingface_hub` and other dependencies needed to run the demo."
      ]
    },
    {
      "cell_type": "code",
      "execution_count": 2,
      "metadata": {
        "id": "gbXwpGKXzF98",
        "outputId": "d7cc8390-e76a-4cc6-b945-42f0951c8d01",
        "colab": {
          "base_uri": "https://localhost:8080/"
        }
      },
      "outputs": [
        {
          "output_type": "stream",
          "name": "stdout",
          "text": [
            "Loading DLC 3.0.0rc10...\n",
            "DLC loaded in light mode; you cannot use any GUI (labeling, relabeling and standalone GUI)\n"
          ]
        }
      ],
      "source": [
        "from pathlib import Path\n",
        "\n",
        "import deeplabcut.pose_estimation_pytorch as dlc_torch\n",
        "import huggingface_hub\n",
        "import matplotlib.collections as collections\n",
        "import matplotlib.pyplot as plt\n",
        "import numpy as np\n",
        "import torch\n",
        "import torchvision.models.detection as detection\n",
        "from PIL import Image\n",
        "from tqdm import tqdm"
      ]
    },
    {
      "cell_type": "markdown",
      "metadata": {
        "id": "6KWKmWRxzX5R"
      },
      "source": [
        "We can now download the pre-trained RTMPose model weights with which we'll run pose estimation."
      ]
    },
    {
      "cell_type": "code",
      "execution_count": 3,
      "metadata": {
        "id": "L_V11iCszw3s",
        "outputId": "8b010e6c-27f5-46ad-f713-2fd07effa3b1",
        "colab": {
          "base_uri": "https://localhost:8080/"
        }
      },
      "outputs": [
        {
          "output_type": "stream",
          "name": "stderr",
          "text": [
            "/usr/local/lib/python3.11/dist-packages/huggingface_hub/utils/_auth.py:94: UserWarning: \n",
            "The secret `HF_TOKEN` does not exist in your Colab secrets.\n",
            "To authenticate with the Hugging Face Hub, create a token in your settings tab (https://huggingface.co/settings/tokens), set it as secret in your Google Colab and restart your session.\n",
            "You will be able to reuse this secret in all of your notebooks.\n",
            "Please note that authentication is recommended but still optional to access public models or datasets.\n",
            "  warnings.warn(\n"
          ]
        }
      ],
      "source": [
        "# Folder in COLAB where snapshots will be saved\n",
        "model_files = Path(\"hf_files\").resolve()\n",
        "model_files.mkdir(exist_ok=True)\n",
        "\n",
        "# Download the snapshot and model configuration file\n",
        "#   This is generic code to download any snapshot from HuggingFace\n",
        "#   To download DeepLabCut SuperAnimal or Model Zoo models, check\n",
        "#   out dlclibrary!\n",
        "path_model_config = Path(\n",
        "    huggingface_hub.hf_hub_download(\n",
        "        \"DeepLabCut/HumanBody\",\n",
        "        \"rtmpose-x_simcc-body7_pytorch_config.yaml\",\n",
        "        local_dir=model_files,\n",
        "    )\n",
        ")\n",
        "path_snapshot = Path(\n",
        "    huggingface_hub.hf_hub_download(\n",
        "        \"DeepLabCut/HumanBody\",\n",
        "        \"rtmpose-x_simcc-body7.pt\",\n",
        "        local_dir=model_files,\n",
        "    )\n",
        ")"
      ]
    },
    {
      "cell_type": "markdown",
      "metadata": {
        "id": "eEqukXXy0coy"
      },
      "source": [
        "We'll now also define some parameters that we'll later use to plot predictions:\n",
        "\n",
        "- a colormap for the keypoints to plot\n",
        "- a colormap for the limbs of the skeleton\n",
        "- a skeleton for the model\n"
      ]
    },
    {
      "cell_type": "code",
      "execution_count": 4,
      "metadata": {
        "id": "Tam4rfJK0c_b"
      },
      "outputs": [],
      "source": [
        "cmap_keypoints = plt.get_cmap(\"rainbow\")\n",
        "cmap_skeleton = plt.get_cmap(\"rainbow_r\")\n",
        "\n",
        "bodyparts2connect = [\n",
        "    (\"right_ankle\", \"right_knee\"),\n",
        "    (\"right_knee\", \"right_hip\"),\n",
        "    (\"left_ankle\", \"left_knee\"),\n",
        "    (\"left_hip\", \"left_knee\"),\n",
        "    (\"left_hip\", \"right_hip\"),\n",
        "    (\"right_shoulder\", \"right_hip\"),\n",
        "    (\"left_shoulder\", \"left_hip\"),\n",
        "    (\"left_shoulder\", \"right_shoulder\"),\n",
        "    (\"left_shoulder\", \"left_elbow\"),\n",
        "    (\"right_shoulder\", \"right_elbow\"),\n",
        "    (\"left_elbow\", \"left_wrist\"),\n",
        "    (\"right_elbow\", \"right_wrist\"),\n",
        "    (\"right_eye\", \"left_ear\"),\n",
        "    (\"left_eye\", \"right_eye\"),\n",
        "    (\"left_eye\", \"left_ear\"),\n",
        "    (\"right_eye\", \"right_ear\"),\n",
        "    (\"left_ear\", \"left_shoulder\"),\n",
        "    (\"right_ear\", \"right_shoulder\"),\n",
        "    (\"left_shoulder\", \"left_elbow\"),\n",
        "    (\"right_shoulder\", \"right_elbow\"),\n",
        "]\n",
        "skeleton = [\n",
        "    [16, 14],\n",
        "    [14, 12],\n",
        "    [17, 15],\n",
        "    [15, 13],\n",
        "    [12, 13],\n",
        "    [6, 12],\n",
        "    [7, 13],\n",
        "    [6, 7],\n",
        "    [6, 8],\n",
        "    [7, 9],\n",
        "    [8, 10],\n",
        "    [9, 11],\n",
        "    [2, 3],\n",
        "    [1, 2],\n",
        "    [1, 3],\n",
        "    [2, 4],\n",
        "    [3, 5],\n",
        "    [4, 6],\n",
        "    [5, 7],\n",
        "]"
      ]
    },
    {
      "cell_type": "markdown",
      "metadata": {
        "id": "cCxkkd-b0EJq"
      },
      "source": [
        "## Running Inference on Images"
      ]
    },
    {
      "cell_type": "markdown",
      "metadata": {
        "id": "dotn_xN-05gh"
      },
      "source": [
        "First, let's upload some images to run inference on. To do so, you can just run the cell below."
      ]
    },
    {
      "cell_type": "code",
      "execution_count": 5,
      "metadata": {
        "id": "mZtikE1H0D34",
        "outputId": "3d47314f-3ed0-40b2-e54d-2677feef9943",
        "colab": {
          "base_uri": "https://localhost:8080/",
          "height": 92
        }
      },
      "outputs": [
        {
          "output_type": "display_data",
          "data": {
            "text/plain": [
              "<IPython.core.display.HTML object>"
            ],
            "text/html": [
              "\n",
              "     <input type=\"file\" id=\"files-4b44d1ed-8af6-45fb-ad9f-9cde2442e4fc\" name=\"files[]\" multiple disabled\n",
              "        style=\"border:none\" />\n",
              "     <output id=\"result-4b44d1ed-8af6-45fb-ad9f-9cde2442e4fc\">\n",
              "      Upload widget is only available when the cell has been executed in the\n",
              "      current browser session. Please rerun this cell to enable.\n",
              "      </output>\n",
              "      <script>// Copyright 2017 Google LLC\n",
              "//\n",
              "// Licensed under the Apache License, Version 2.0 (the \"License\");\n",
              "// you may not use this file except in compliance with the License.\n",
              "// You may obtain a copy of the License at\n",
              "//\n",
              "//      http://www.apache.org/licenses/LICENSE-2.0\n",
              "//\n",
              "// Unless required by applicable law or agreed to in writing, software\n",
              "// distributed under the License is distributed on an \"AS IS\" BASIS,\n",
              "// WITHOUT WARRANTIES OR CONDITIONS OF ANY KIND, either express or implied.\n",
              "// See the License for the specific language governing permissions and\n",
              "// limitations under the License.\n",
              "\n",
              "/**\n",
              " * @fileoverview Helpers for google.colab Python module.\n",
              " */\n",
              "(function(scope) {\n",
              "function span(text, styleAttributes = {}) {\n",
              "  const element = document.createElement('span');\n",
              "  element.textContent = text;\n",
              "  for (const key of Object.keys(styleAttributes)) {\n",
              "    element.style[key] = styleAttributes[key];\n",
              "  }\n",
              "  return element;\n",
              "}\n",
              "\n",
              "// Max number of bytes which will be uploaded at a time.\n",
              "const MAX_PAYLOAD_SIZE = 100 * 1024;\n",
              "\n",
              "function _uploadFiles(inputId, outputId) {\n",
              "  const steps = uploadFilesStep(inputId, outputId);\n",
              "  const outputElement = document.getElementById(outputId);\n",
              "  // Cache steps on the outputElement to make it available for the next call\n",
              "  // to uploadFilesContinue from Python.\n",
              "  outputElement.steps = steps;\n",
              "\n",
              "  return _uploadFilesContinue(outputId);\n",
              "}\n",
              "\n",
              "// This is roughly an async generator (not supported in the browser yet),\n",
              "// where there are multiple asynchronous steps and the Python side is going\n",
              "// to poll for completion of each step.\n",
              "// This uses a Promise to block the python side on completion of each step,\n",
              "// then passes the result of the previous step as the input to the next step.\n",
              "function _uploadFilesContinue(outputId) {\n",
              "  const outputElement = document.getElementById(outputId);\n",
              "  const steps = outputElement.steps;\n",
              "\n",
              "  const next = steps.next(outputElement.lastPromiseValue);\n",
              "  return Promise.resolve(next.value.promise).then((value) => {\n",
              "    // Cache the last promise value to make it available to the next\n",
              "    // step of the generator.\n",
              "    outputElement.lastPromiseValue = value;\n",
              "    return next.value.response;\n",
              "  });\n",
              "}\n",
              "\n",
              "/**\n",
              " * Generator function which is called between each async step of the upload\n",
              " * process.\n",
              " * @param {string} inputId Element ID of the input file picker element.\n",
              " * @param {string} outputId Element ID of the output display.\n",
              " * @return {!Iterable<!Object>} Iterable of next steps.\n",
              " */\n",
              "function* uploadFilesStep(inputId, outputId) {\n",
              "  const inputElement = document.getElementById(inputId);\n",
              "  inputElement.disabled = false;\n",
              "\n",
              "  const outputElement = document.getElementById(outputId);\n",
              "  outputElement.innerHTML = '';\n",
              "\n",
              "  const pickedPromise = new Promise((resolve) => {\n",
              "    inputElement.addEventListener('change', (e) => {\n",
              "      resolve(e.target.files);\n",
              "    });\n",
              "  });\n",
              "\n",
              "  const cancel = document.createElement('button');\n",
              "  inputElement.parentElement.appendChild(cancel);\n",
              "  cancel.textContent = 'Cancel upload';\n",
              "  const cancelPromise = new Promise((resolve) => {\n",
              "    cancel.onclick = () => {\n",
              "      resolve(null);\n",
              "    };\n",
              "  });\n",
              "\n",
              "  // Wait for the user to pick the files.\n",
              "  const files = yield {\n",
              "    promise: Promise.race([pickedPromise, cancelPromise]),\n",
              "    response: {\n",
              "      action: 'starting',\n",
              "    }\n",
              "  };\n",
              "\n",
              "  cancel.remove();\n",
              "\n",
              "  // Disable the input element since further picks are not allowed.\n",
              "  inputElement.disabled = true;\n",
              "\n",
              "  if (!files) {\n",
              "    return {\n",
              "      response: {\n",
              "        action: 'complete',\n",
              "      }\n",
              "    };\n",
              "  }\n",
              "\n",
              "  for (const file of files) {\n",
              "    const li = document.createElement('li');\n",
              "    li.append(span(file.name, {fontWeight: 'bold'}));\n",
              "    li.append(span(\n",
              "        `(${file.type || 'n/a'}) - ${file.size} bytes, ` +\n",
              "        `last modified: ${\n",
              "            file.lastModifiedDate ? file.lastModifiedDate.toLocaleDateString() :\n",
              "                                    'n/a'} - `));\n",
              "    const percent = span('0% done');\n",
              "    li.appendChild(percent);\n",
              "\n",
              "    outputElement.appendChild(li);\n",
              "\n",
              "    const fileDataPromise = new Promise((resolve) => {\n",
              "      const reader = new FileReader();\n",
              "      reader.onload = (e) => {\n",
              "        resolve(e.target.result);\n",
              "      };\n",
              "      reader.readAsArrayBuffer(file);\n",
              "    });\n",
              "    // Wait for the data to be ready.\n",
              "    let fileData = yield {\n",
              "      promise: fileDataPromise,\n",
              "      response: {\n",
              "        action: 'continue',\n",
              "      }\n",
              "    };\n",
              "\n",
              "    // Use a chunked sending to avoid message size limits. See b/62115660.\n",
              "    let position = 0;\n",
              "    do {\n",
              "      const length = Math.min(fileData.byteLength - position, MAX_PAYLOAD_SIZE);\n",
              "      const chunk = new Uint8Array(fileData, position, length);\n",
              "      position += length;\n",
              "\n",
              "      const base64 = btoa(String.fromCharCode.apply(null, chunk));\n",
              "      yield {\n",
              "        response: {\n",
              "          action: 'append',\n",
              "          file: file.name,\n",
              "          data: base64,\n",
              "        },\n",
              "      };\n",
              "\n",
              "      let percentDone = fileData.byteLength === 0 ?\n",
              "          100 :\n",
              "          Math.round((position / fileData.byteLength) * 100);\n",
              "      percent.textContent = `${percentDone}% done`;\n",
              "\n",
              "    } while (position < fileData.byteLength);\n",
              "  }\n",
              "\n",
              "  // All done.\n",
              "  yield {\n",
              "    response: {\n",
              "      action: 'complete',\n",
              "    }\n",
              "  };\n",
              "}\n",
              "\n",
              "scope.google = scope.google || {};\n",
              "scope.google.colab = scope.google.colab || {};\n",
              "scope.google.colab._files = {\n",
              "  _uploadFiles,\n",
              "  _uploadFilesContinue,\n",
              "};\n",
              "})(self);\n",
              "</script> "
            ]
          },
          "metadata": {}
        },
        {
          "output_type": "stream",
          "name": "stdout",
          "text": [
            "Saving taylor_swift.jpg to taylor_swift.jpg\n",
            "User uploaded file 'taylor_swift.jpg' with length 46915 bytes\n"
          ]
        }
      ],
      "source": [
        "from google.colab import files\n",
        "\n",
        "#JPG or PNG is recommended:\n",
        "uploaded = files.upload()\n",
        "for filepath, content in uploaded.items():\n",
        "    print(f\"User uploaded file '{filepath}' with length {len(content)} bytes\")\n",
        "\n",
        "image_paths = [Path(filepath).resolve() for filepath in uploaded.keys()]\n",
        "\n",
        "# If this cell fails (e.g., when using Safari in place of Google Chrome),\n",
        "# manually upload your image via the Files menu to the left and define\n",
        "# `image_paths` yourself with right `click` > `copy path` on the image:\n",
        "#\n",
        "# image_paths = [\n",
        "#   Path(\"/path/to/my/image_000.png\"),\n",
        "#   Path(\"/path/to/my/image_001.png\"),\n",
        "# ]\n"
      ]
    },
    {
      "cell_type": "code",
      "execution_count": 6,
      "metadata": {
        "id": "nj-HtOBSwtdk",
        "outputId": "eb5f3b18-cc89-4dd1-a58e-6c39c62582af",
        "colab": {
          "base_uri": "https://localhost:8080/"
        }
      },
      "outputs": [
        {
          "output_type": "stream",
          "name": "stdout",
          "text": [
            "Running object detection\n"
          ]
        },
        {
          "output_type": "stream",
          "name": "stderr",
          "text": [
            "100%|██████████| 1/1 [00:00<00:00,  1.95it/s]\n"
          ]
        },
        {
          "output_type": "stream",
          "name": "stdout",
          "text": [
            "Running pose estimation\n"
          ]
        },
        {
          "output_type": "stream",
          "name": "stderr",
          "text": [
            "1it [00:00, 78.27it/s]\n"
          ]
        },
        {
          "output_type": "stream",
          "name": "stdout",
          "text": [
            "Saving the predictions to a CSV file\n",
            "Done!\n"
          ]
        }
      ],
      "source": [
        "# Define the device on which the models will run\n",
        "device = \"cuda\"  # e.g. cuda, cpu\n",
        "\n",
        "# The maximum number of detections to keep in an image\n",
        "max_detections = 10\n",
        "\n",
        "#############################################\n",
        "# Run a pretrained detector to get bounding boxes\n",
        "\n",
        "# Load the detector from torchvision\n",
        "weights = detection.FasterRCNN_MobileNet_V3_Large_FPN_Weights.DEFAULT\n",
        "detector = detection.fasterrcnn_mobilenet_v3_large_fpn(\n",
        "    weights=weights, box_score_thresh=0.6,\n",
        ")\n",
        "detector.eval()\n",
        "detector.to(device)\n",
        "preprocess = weights.transforms()\n",
        "\n",
        "# The context is a list containing the bounding boxes predicted\n",
        "# for each image; it will be given to the RTMPose model alongside\n",
        "# the images.\n",
        "context = []\n",
        "\n",
        "print(\"Running object detection\")\n",
        "with torch.no_grad():\n",
        "    for image_path in tqdm(image_paths):\n",
        "        image = Image.open(image_path).convert(\"RGB\")\n",
        "        batch = [preprocess(image).to(device)]\n",
        "        predictions = detector(batch)[0]\n",
        "        bboxes = predictions[\"boxes\"].cpu().numpy()\n",
        "        labels = predictions[\"labels\"].cpu().numpy()\n",
        "\n",
        "        # Obtain the bounding boxes predicted for humans\n",
        "        human_bboxes = [\n",
        "            bbox for bbox, label in zip(bboxes, labels) if label == 1\n",
        "        ]\n",
        "\n",
        "        # Convert bounding boxes to xywh format\n",
        "        bboxes = np.zeros((0, 4))\n",
        "        if len(human_bboxes) > 0:\n",
        "            bboxes = np.stack(human_bboxes)\n",
        "        bboxes[:, 2] -= bboxes[:, 0]\n",
        "        bboxes[:, 3] -= bboxes[:, 1]\n",
        "\n",
        "        # Only keep the best N detections\n",
        "        bboxes = bboxes[:max_detections]\n",
        "\n",
        "        context.append({\"bboxes\": bboxes})\n",
        "\n",
        "\n",
        "#############################################\n",
        "# Run inference on the images\n",
        "pose_cfg = dlc_torch.config.read_config_as_dict(path_model_config)\n",
        "runner = dlc_torch.get_pose_inference_runner(\n",
        "    pose_cfg,\n",
        "    snapshot_path=path_snapshot,\n",
        "    batch_size=16,\n",
        "    max_individuals=max_detections,\n",
        ")\n",
        "\n",
        "print(\"Running pose estimation\")\n",
        "predictions = runner.inference(tqdm(zip(image_paths, context)))\n",
        "\n",
        "\n",
        "#############################################\n",
        "# Create a DataFrame with the predictions, and save them to a CSV file.\n",
        "print(\"Saving the predictions to a CSV file\")\n",
        "df = dlc_torch.build_predictions_dataframe(\n",
        "    scorer=\"rtmpose-body7\",\n",
        "    predictions={\n",
        "        img_path: img_predictions\n",
        "        for img_path, img_predictions in zip(image_paths, predictions)\n",
        "    },\n",
        "    parameters=dlc_torch.PoseDatasetParameters(\n",
        "        bodyparts=pose_cfg[\"metadata\"][\"bodyparts\"],\n",
        "        unique_bpts=pose_cfg[\"metadata\"][\"unique_bodyparts\"],\n",
        "        individuals=[f\"idv_{i}\" for i in range(max_detections)]\n",
        "    )\n",
        ")\n",
        "\n",
        "# Save to CSV\n",
        "df.to_csv(\"image_predictions.csv\")\n",
        "\n",
        "print(\"Done!\")"
      ]
    },
    {
      "cell_type": "markdown",
      "metadata": {
        "id": "pWtdL4U52OBJ"
      },
      "source": [
        "Finally, we can plot the predictions!"
      ]
    },
    {
      "cell_type": "code",
      "execution_count": 7,
      "metadata": {
        "id": "3slKu6Lr2MUh",
        "outputId": "ef7d938c-39fc-473a-9b88-6169cbfbc567",
        "colab": {
          "base_uri": "https://localhost:8080/",
          "height": 447
        }
      },
      "outputs": [
        {
          "output_type": "display_data",
          "data": {
            "text/plain": [
              "<Figure size 800x800 with 1 Axes>"
            ],
            "image/png": "[encoded data removed]"
          },
          "metadata": {}
        }
      ],
      "source": [
        "#############################################\n",
        "# Unpack and plot predictions\n",
        "plot_skeleton = True\n",
        "plot_pose_markers = True\n",
        "plot_bounding_boxes = True\n",
        "marker_size = 12\n",
        "\n",
        "for image_path, image_predictions in zip(image_paths, predictions):\n",
        "    image = Image.open(image_path).convert(\"RGB\")\n",
        "\n",
        "    pose = image_predictions[\"bodyparts\"]\n",
        "    bboxes = image_predictions[\"bboxes\"]\n",
        "    num_individuals, num_bodyparts = pose.shape[:2]\n",
        "\n",
        "    fig, ax = plt.subplots(figsize=(8, 8))\n",
        "    ax.imshow(image)\n",
        "    ax.set_xlim(0, image.width)\n",
        "    ax.set_ylim(image.height, 0)\n",
        "    ax.axis(\"off\")\n",
        "    for idv_pose in pose:\n",
        "        if plot_skeleton:\n",
        "            bones = []\n",
        "            for bpt_1, bpt_2 in skeleton:\n",
        "                bones.append([idv_pose[bpt_1 - 1, :2], idv_pose[bpt_2 - 1, :2]])\n",
        "\n",
        "            bone_colors = cmap_skeleton\n",
        "            if not isinstance(cmap_skeleton, str):\n",
        "                bone_colors = cmap_skeleton(np.linspace(0, 1, len(skeleton)))\n",
        "\n",
        "            ax.add_collection(\n",
        "                collections.LineCollection(bones, colors=bone_colors)\n",
        "            )\n",
        "\n",
        "        if plot_pose_markers:\n",
        "            ax.scatter(\n",
        "                idv_pose[:, 0],\n",
        "                idv_pose[:, 1],\n",
        "                c=list(range(num_bodyparts)),\n",
        "                cmap=\"rainbow\",\n",
        "                s=marker_size,\n",
        "            )\n",
        "\n",
        "    if plot_bounding_boxes:\n",
        "        for x, y, w, h in bboxes:\n",
        "            ax.plot(\n",
        "                [x, x + w, x + w, x, x],\n",
        "                [y, y, y + h, y + h, y],\n",
        "                c=\"r\",\n",
        "            )\n",
        "\n",
        "    plt.show()"
      ]
    },
    {
      "cell_type": "markdown",
      "metadata": {
        "id": "wO18A_3m5Spk"
      },
      "source": [
        "## Running Inference on a Video\n",
        "\n",
        "Running pose inference on a video is very similar! First, upload a video to Google Drive."
      ]
    },
    {
      "cell_type": "code",
      "execution_count": 8,
      "metadata": {
        "id": "d9a7gSe15bCa",
        "outputId": "698b180c-cd8f-4d17-9c71-f8e58f93631b",
        "colab": {
          "base_uri": "https://localhost:8080/",
          "height": 92
        }
      },
      "outputs": [
        {
          "output_type": "display_data",
          "data": {
            "text/plain": [
              "<IPython.core.display.HTML object>"
            ],
            "text/html": [
              "\n",
              "     <input type=\"file\" id=\"files-f1dd023f-c99c-4afc-a331-b1484a3903d2\" name=\"files[]\" multiple disabled\n",
              "        style=\"border:none\" />\n",
              "     <output id=\"result-f1dd023f-c99c-4afc-a331-b1484a3903d2\">\n",
              "      Upload widget is only available when the cell has been executed in the\n",
              "      current browser session. Please rerun this cell to enable.\n",
              "      </output>\n",
              "      <script>// Copyright 2017 Google LLC\n",
              "//\n",
              "// Licensed under the Apache License, Version 2.0 (the \"License\");\n",
              "// you may not use this file except in compliance with the License.\n",
              "// You may obtain a copy of the License at\n",
              "//\n",
              "//      http://www.apache.org/licenses/LICENSE-2.0\n",
              "//\n",
              "// Unless required by applicable law or agreed to in writing, software\n",
              "// distributed under the License is distributed on an \"AS IS\" BASIS,\n",
              "// WITHOUT WARRANTIES OR CONDITIONS OF ANY KIND, either express or implied.\n",
              "// See the License for the specific language governing permissions and\n",
              "// limitations under the License.\n",
              "\n",
              "/**\n",
              " * @fileoverview Helpers for google.colab Python module.\n",
              " */\n",
              "(function(scope) {\n",
              "function span(text, styleAttributes = {}) {\n",
              "  const element = document.createElement('span');\n",
              "  element.textContent = text;\n",
              "  for (const key of Object.keys(styleAttributes)) {\n",
              "    element.style[key] = styleAttributes[key];\n",
              "  }\n",
              "  return element;\n",
              "}\n",
              "\n",
              "// Max number of bytes which will be uploaded at a time.\n",
              "const MAX_PAYLOAD_SIZE = 100 * 1024;\n",
              "\n",
              "function _uploadFiles(inputId, outputId) {\n",
              "  const steps = uploadFilesStep(inputId, outputId);\n",
              "  const outputElement = document.getElementById(outputId);\n",
              "  // Cache steps on the outputElement to make it available for the next call\n",
              "  // to uploadFilesContinue from Python.\n",
              "  outputElement.steps = steps;\n",
              "\n",
              "  return _uploadFilesContinue(outputId);\n",
              "}\n",
              "\n",
              "// This is roughly an async generator (not supported in the browser yet),\n",
              "// where there are multiple asynchronous steps and the Python side is going\n",
              "// to poll for completion of each step.\n",
              "// This uses a Promise to block the python side on completion of each step,\n",
              "// then passes the result of the previous step as the input to the next step.\n",
              "function _uploadFilesContinue(outputId) {\n",
              "  const outputElement = document.getElementById(outputId);\n",
              "  const steps = outputElement.steps;\n",
              "\n",
              "  const next = steps.next(outputElement.lastPromiseValue);\n",
              "  return Promise.resolve(next.value.promise).then((value) => {\n",
              "    // Cache the last promise value to make it available to the next\n",
              "    // step of the generator.\n",
              "    outputElement.lastPromiseValue = value;\n",
              "    return next.value.response;\n",
              "  });\n",
              "}\n",
              "\n",
              "/**\n",
              " * Generator function which is called between each async step of the upload\n",
              " * process.\n",
              " * @param {string} inputId Element ID of the input file picker element.\n",
              " * @param {string} outputId Element ID of the output display.\n",
              " * @return {!Iterable<!Object>} Iterable of next steps.\n",
              " */\n",
              "function* uploadFilesStep(inputId, outputId) {\n",
              "  const inputElement = document.getElementById(inputId);\n",
              "  inputElement.disabled = false;\n",
              "\n",
              "  const outputElement = document.getElementById(outputId);\n",
              "  outputElement.innerHTML = '';\n",
              "\n",
              "  const pickedPromise = new Promise((resolve) => {\n",
              "    inputElement.addEventListener('change', (e) => {\n",
              "      resolve(e.target.files);\n",
              "    });\n",
              "  });\n",
              "\n",
              "  const cancel = document.createElement('button');\n",
              "  inputElement.parentElement.appendChild(cancel);\n",
              "  cancel.textContent = 'Cancel upload';\n",
              "  const cancelPromise = new Promise((resolve) => {\n",
              "    cancel.onclick = () => {\n",
              "      resolve(null);\n",
              "    };\n",
              "  });\n",
              "\n",
              "  // Wait for the user to pick the files.\n",
              "  const files = yield {\n",
              "    promise: Promise.race([pickedPromise, cancelPromise]),\n",
              "    response: {\n",
              "      action: 'starting',\n",
              "    }\n",
              "  };\n",
              "\n",
              "  cancel.remove();\n",
              "\n",
              "  // Disable the input element since further picks are not allowed.\n",
              "  inputElement.disabled = true;\n",
              "\n",
              "  if (!files) {\n",
              "    return {\n",
              "      response: {\n",
              "        action: 'complete',\n",
              "      }\n",
              "    };\n",
              "  }\n",
              "\n",
              "  for (const file of files) {\n",
              "    const li = document.createElement('li');\n",
              "    li.append(span(file.name, {fontWeight: 'bold'}));\n",
              "    li.append(span(\n",
              "        `(${file.type || 'n/a'}) - ${file.size} bytes, ` +\n",
              "        `last modified: ${\n",
              "            file.lastModifiedDate ? file.lastModifiedDate.toLocaleDateString() :\n",
              "                                    'n/a'} - `));\n",
              "    const percent = span('0% done');\n",
              "    li.appendChild(percent);\n",
              "\n",
              "    outputElement.appendChild(li);\n",
              "\n",
              "    const fileDataPromise = new Promise((resolve) => {\n",
              "      const reader = new FileReader();\n",
              "      reader.onload = (e) => {\n",
              "        resolve(e.target.result);\n",
              "      };\n",
              "      reader.readAsArrayBuffer(file);\n",
              "    });\n",
              "    // Wait for the data to be ready.\n",
              "    let fileData = yield {\n",
              "      promise: fileDataPromise,\n",
              "      response: {\n",
              "        action: 'continue',\n",
              "      }\n",
              "    };\n",
              "\n",
              "    // Use a chunked sending to avoid message size limits. See b/62115660.\n",
              "    let position = 0;\n",
              "    do {\n",
              "      const length = Math.min(fileData.byteLength - position, MAX_PAYLOAD_SIZE);\n",
              "      const chunk = new Uint8Array(fileData, position, length);\n",
              "      position += length;\n",
              "\n",
              "      const base64 = btoa(String.fromCharCode.apply(null, chunk));\n",
              "      yield {\n",
              "        response: {\n",
              "          action: 'append',\n",
              "          file: file.name,\n",
              "          data: base64,\n",
              "        },\n",
              "      };\n",
              "\n",
              "      let percentDone = fileData.byteLength === 0 ?\n",
              "          100 :\n",
              "          Math.round((position / fileData.byteLength) * 100);\n",
              "      percent.textContent = `${percentDone}% done`;\n",
              "\n",
              "    } while (position < fileData.byteLength);\n",
              "  }\n",
              "\n",
              "  // All done.\n",
              "  yield {\n",
              "    response: {\n",
              "      action: 'complete',\n",
              "    }\n",
              "  };\n",
              "}\n",
              "\n",
              "scope.google = scope.google || {};\n",
              "scope.google.colab = scope.google.colab || {};\n",
              "scope.google.colab._files = {\n",
              "  _uploadFiles,\n",
              "  _uploadFilesContinue,\n",
              "};\n",
              "})(self);\n",
              "</script> "
            ]
          },
          "metadata": {}
        },
        {
          "output_type": "stream",
          "name": "stdout",
          "text": [
            "Saving taylor-dancing.mov to taylor-dancing.mov\n",
            "User uploaded file 'taylor-dancing.mov' with length 1415324 bytes\n"
          ]
        }
      ],
      "source": [
        "from google.colab import files\n",
        "\n",
        "uploaded = files.upload()\n",
        "for filepath, content in uploaded.items():\n",
        "    print(f\"User uploaded file '{filepath}' with length {len(content)} bytes\")\n",
        "\n",
        "\n",
        "video_path = [Path(filepath).resolve() for filepath in uploaded.keys()][0]\n",
        "\n",
        "# If this cell fails (e.g., when using Safari in place of Google Chrome),\n",
        "# manually upload your video via the Files menu to the left and define\n",
        "# `video_path` yourself with right `click` > `copy path` on the video:\n",
        "#\n",
        "# video_path = Path(\"/path/to/my/video.mp4\")\n"
      ]
    },
    {
      "cell_type": "code",
      "execution_count": 9,
      "metadata": {
        "id": "I885B01359qu",
        "outputId": "0affdeda-a10b-4849-b3cd-edf1cb202b52",
        "colab": {
          "base_uri": "https://localhost:8080/"
        }
      },
      "outputs": [
        {
          "output_type": "stream",
          "name": "stdout",
          "text": [
            "Running object detection\n"
          ]
        },
        {
          "output_type": "stream",
          "name": "stderr",
          "text": [
            " 81%|████████▏ | 66/81 [00:02<00:00, 25.37it/s]\n"
          ]
        },
        {
          "output_type": "stream",
          "name": "stdout",
          "text": [
            "Running pose estimation\n"
          ]
        },
        {
          "output_type": "stream",
          "name": "stderr",
          "text": [
            " 81%|████████▏ | 66/81 [00:01<00:00, 53.25it/s]\n"
          ]
        },
        {
          "output_type": "stream",
          "name": "stdout",
          "text": [
            "Saving the predictions to a CSV file\n",
            "Done!\n"
          ]
        }
      ],
      "source": [
        "# Define the device on which the models will run\n",
        "device = \"cuda\"  # e.g. cuda, cpu\n",
        "\n",
        "# The maximum number of individuals to detect in an image\n",
        "max_detections = 30\n",
        "\n",
        "\n",
        "#############################################\n",
        "# Create a video iterator\n",
        "video = dlc_torch.VideoIterator(video_path)\n",
        "\n",
        "\n",
        "#############################################\n",
        "# Run a pretrained detector to get bounding boxes\n",
        "\n",
        "# Load the detector from torchvision\n",
        "weights = detection.FasterRCNN_MobileNet_V3_Large_FPN_Weights.DEFAULT\n",
        "detector = detection.fasterrcnn_mobilenet_v3_large_fpn(\n",
        "    weights=weights, box_score_thresh=0.6,\n",
        ")\n",
        "detector.eval()\n",
        "detector.to(device)\n",
        "preprocess = weights.transforms()\n",
        "\n",
        "# The context is a list containing the bounding boxes predicted for each frame\n",
        "# in the video.\n",
        "context = []\n",
        "\n",
        "print(\"Running object detection\")\n",
        "with torch.no_grad():\n",
        "    for frame in tqdm(video):\n",
        "        batch = [preprocess(Image.fromarray(frame)).to(device)]\n",
        "        predictions = detector(batch)[0]\n",
        "        bboxes = predictions[\"boxes\"].cpu().numpy()\n",
        "        labels = predictions[\"labels\"].cpu().numpy()\n",
        "\n",
        "        # Obtain the bounding boxes predicted for humans\n",
        "        human_bboxes = [\n",
        "            bbox for bbox, label in zip(bboxes, labels) if label == 1\n",
        "        ]\n",
        "\n",
        "        # Convert bounding boxes to xywh format\n",
        "        bboxes = np.zeros((0, 4))\n",
        "        if len(human_bboxes) > 0:\n",
        "            bboxes = np.stack(human_bboxes)\n",
        "        bboxes[:, 2] -= bboxes[:, 0]\n",
        "        bboxes[:, 3] -= bboxes[:, 1]\n",
        "\n",
        "        # Only keep the top N bounding boxes\n",
        "        bboxes = bboxes[:max_detections]\n",
        "\n",
        "        context.append({\"bboxes\": bboxes})\n",
        "\n",
        "# Set the context for the video\n",
        "video.set_context(context)\n",
        "\n",
        "\n",
        "#############################################\n",
        "# Run inference on the images (in this case a single image)\n",
        "pose_cfg = dlc_torch.config.read_config_as_dict(path_model_config)\n",
        "runner = dlc_torch.get_pose_inference_runner(\n",
        "    pose_cfg,\n",
        "    snapshot_path=path_snapshot,\n",
        "    batch_size=16,\n",
        "    max_individuals=max_detections,\n",
        ")\n",
        "\n",
        "print(\"Running pose estimation\")\n",
        "predictions = runner.inference(tqdm(video))\n",
        "\n",
        "\n",
        "print(\"Saving the predictions to a CSV file\")\n",
        "df = dlc_torch.build_predictions_dataframe(\n",
        "    scorer=\"rtmpose-body7\",\n",
        "    predictions={\n",
        "        idx: img_predictions\n",
        "        for idx, img_predictions in enumerate(predictions)\n",
        "    },\n",
        "    parameters=dlc_torch.PoseDatasetParameters(\n",
        "        bodyparts=pose_cfg[\"metadata\"][\"bodyparts\"],\n",
        "        unique_bpts=pose_cfg[\"metadata\"][\"unique_bodyparts\"],\n",
        "        individuals=[f\"idv_{i}\" for i in range(max_detections)]\n",
        "    )\n",
        ")\n",
        "df.to_csv(\"video_predictions.csv\")\n",
        "\n",
        "print(\"Done!\")"
      ]
    },
    {
      "cell_type": "markdown",
      "metadata": {
        "id": "altka3NGB_su"
      },
      "source": [
        "Finally, we can plot the predictions on the video! The labeled video output is saved in the `\"video_predictions.mp4\"` file, and can be downloaded to be viewed."
      ]
    },
    {
      "cell_type": "code",
      "execution_count": 10,
      "metadata": {
        "id": "xRWxH0gO6oPg",
        "outputId": "c2cc9025-7741-4403-d5cc-c62470a4ba74",
        "colab": {
          "base_uri": "https://localhost:8080/"
        }
      },
      "outputs": [
        {
          "output_type": "stream",
          "name": "stderr",
          "text": [
            "/usr/local/lib/python3.11/dist-packages/deeplabcut/utils/make_labeled_video.py:146: FutureWarning: DataFrame.groupby with axis=1 is deprecated. Do `frame.T.groupby(...)` without axis instead.\n",
            "  Dataframe.groupby(level=\"individuals\", axis=1).size().values // 3\n"
          ]
        },
        {
          "output_type": "stream",
          "name": "stdout",
          "text": [
            "Duration of video [s]: 1.57, recorded with 51.7 fps!\n",
            "Overall # of frames: 81 with cropped frame dimensions: 828 768\n",
            "Generating frames and creating video.\n"
          ]
        },
        {
          "output_type": "stream",
          "name": "stderr",
          "text": [
            "100%|██████████| 66/66 [00:01<00:00, 35.27it/s]\n"
          ]
        }
      ],
      "source": [
        "from deeplabcut.utils.make_labeled_video import CreateVideo\n",
        "from deeplabcut.utils.video_processor import VideoProcessorCV\n",
        "\n",
        "video_output_path = \"video_predictions.mp4\"\n",
        "\n",
        "clip = VideoProcessorCV(str(video_path), sname=video_output_path, codec=\"mp4v\")\n",
        "CreateVideo(\n",
        "    clip,\n",
        "    df,\n",
        "    pcutoff=0.4,\n",
        "    dotsize=3,\n",
        "    colormap=\"rainbow\",\n",
        "    bodyparts2plot=pose_cfg[\"metadata\"][\"bodyparts\"],\n",
        "    trailpoints=0,\n",
        "    cropping=False,\n",
        "    x1=0,\n",
        "    x2=clip.w,\n",
        "    y1=0,\n",
        "    y2=clip.h,\n",
        "    bodyparts2connect=bodyparts2connect,\n",
        "    skeleton_color=\"w\",\n",
        "    draw_skeleton=True,\n",
        "    displaycropped=True,\n",
        "    color_by=\"bodypart\",\n",
        ")"
      ]
    }
  ],
  "metadata": {
    "accelerator": "GPU",
    "colab": {
      "gpuType": "T4",
      "provenance": [],
      "include_colab_link": true
    },
    "kernelspec": {
      "display_name": "Python 3",
      "name": "python3"
    },
    "language_info": {
      "name": "python"
    }
  },
  "nbformat": 4,
  "nbformat_minor": 0
}
