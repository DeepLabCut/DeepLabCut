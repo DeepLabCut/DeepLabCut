{
 "cells": [
  {
   "cell_type": "markdown",
   "metadata": {
    "colab_type": "text",
    "id": "view-in-github"
   },
   "source": [
    "<a href=\"https://colab.research.google.com/github/AlexEMG/DeepLabCut/blob/master/examples/COLAB_DLC_ModelZoo.ipynb\" target=\"_parent\"><img src=\"https://colab.research.google.com/assets/colab-badge.svg\" alt=\"Open In Colab\"/></a>"
   ]
  },
  {
   "cell_type": "markdown",
   "metadata": {
    "colab_type": "text",
    "id": "RK255E7YoEIt"
   },
   "source": [
    "# **DeepLabCut Model Zoo:**\n",
    "\n",
    "http://www.mousemotorlab.org/dlc-modelzoo\n",
    "\n",
    "You can use this notebook to analyze videos with pretrained networks from our model zoo - NO local installation of DeepLabCut is needed! \n",
    "\n",
    "- **What you need:** a video of your favorite dog, cat, etc: check the list of currently available models here: http://www.mousemotorlab.org/dlc-modelzoo \n",
    "\n",
    "- **What to do:** hit run on each cell below and follow the instructions!\n",
    "\n",
    "- **If you performance is less that you would like:** firstly check the labeled_video parameters (i.e. \"pcutoff\" in the config.yaml file that will set the video plotting) - see the end of this notebook. \n",
    "\n",
    "  * *Otherwise, please consider labeling data to help make each network even better! See instructions here: http://www.mousemotorlab.org/dlc-modelzoo - this is our great experiment on community-sourced open-science!*\n",
    "\n",
    "\n",
    "Let's get going! \n",
    "\n",
    "## **Let's install DeepLabCut into COLAB:**\n",
    "\n",
    "*Also, be sure you are connected to a GPU: go to menu, click Runtime > Change Runtime Type > select \"GPU\"*"
   ]
  },
  {
   "cell_type": "code",
   "execution_count": 0,
   "metadata": {
    "colab": {},
    "colab_type": "code",
    "id": "q23BzhA6CXxu"
   },
   "outputs": [],
   "source": [
    "#click the play icon (this will take a few minutes to install all the dependences!)\n",
    "!pip install deeplabcut==2.1.8b0\n",
    "%reload_ext numpy\n",
    "%reload_ext matplotlib\n",
    "%reload_ext mpl_toolkits"
   ]
  },
  {
   "cell_type": "markdown",
   "metadata": {
    "colab_type": "text",
    "id": "25wSj6TlVclR"
   },
   "source": [
    " *Please click the button ^^^^ RESART RUNTIME ^^^^*"
   ]
  },
  {
   "cell_type": "code",
   "execution_count": 0,
   "metadata": {
    "colab": {},
    "colab_type": "code",
    "id": "Jw4xz2xy2dAo"
   },
   "outputs": [],
   "source": [
    "# Use TensorFlow 1.x:\n",
    "%tensorflow_version 1.x"
   ]
  },
  {
   "cell_type": "markdown",
   "metadata": {},
   "source": [
    "## Now let's set the backend & import the DeepLabCut package:"
   ]
  },
  {
   "cell_type": "code",
   "execution_count": 1,
   "metadata": {},
   "outputs": [
    {
     "name": "stdout",
     "output_type": "stream",
     "text": [
      "DLC loaded in light mode; you cannot use any GUI (labeling, relabeling and standalone GUI)\n"
     ]
    }
   ],
   "source": [
    "#GUIs don't work on the cloud, so we supress them:\n",
    "import os\n",
    "os.environ[\"DLClight\"]=\"True\"\n",
    "\n",
    "import deeplabcut"
   ]
  },
  {
   "cell_type": "markdown",
   "metadata": {
    "colab_type": "text",
    "id": "syweXs88tyuO"
   },
   "source": [
    "## Next, run the cell below to upload your video file from your computer:"
   ]
  },
  {
   "cell_type": "code",
   "execution_count": 0,
   "metadata": {
    "colab": {},
    "colab_type": "code",
    "id": "7eqEZYs_CaLy"
   },
   "outputs": [],
   "source": [
    "from google.colab import files\n",
    "uploaded = files.upload()\n",
    "for fn in uploaded.keys():\n",
    "  print('User uploaded file \"{video_path}\" with length {length} bytes'.format(\n",
    "      video_path=fn, length=len(uploaded[fn])))\n",
    "  video_path = fn"
   ]
  },
  {
   "cell_type": "markdown",
   "metadata": {
    "colab_type": "text",
    "id": "YsaqOTkZtf-w"
   },
   "source": [
    "## Input your project information below - project/video/model - then run the cell:\n"
   ]
  },
  {
   "cell_type": "code",
   "execution_count": null,
   "metadata": {},
   "outputs": [],
   "source": []
  },
  {
   "cell_type": "code",
   "execution_count": 0,
   "metadata": {
    "colab": {},
    "colab_type": "code",
    "id": "UV0QXswGCFrI"
   },
   "outputs": [],
   "source": [
    "ProjectFolderName = 'myDLCzooProject'\n",
    "YourName = 'teamDLC'\n",
    "model2use = 'full_cat' # see http://www.mousemotorlab.org/dlc-modelzoo for the list! (curently: full_dog, full_cat, full_human, primate_face)\n",
    "videotype = 'mp4' #or MOV, or avi, whatever you uploaded!"
   ]
  },
  {
   "cell_type": "code",
   "execution_count": null,
   "metadata": {},
   "outputs": [],
   "source": []
  },
  {
   "cell_type": "markdown",
   "metadata": {
    "colab_type": "text",
    "id": "49WrF8CMs0Ah"
   },
   "source": []
  },
  {
   "cell_type": "code",
   "execution_count": 0,
   "metadata": {
    "colab": {},
    "colab_type": "code",
    "id": "sXufoX6INe6w"
   },
   "outputs": [],
   "source": []
  },
  {
   "cell_type": "markdown",
   "metadata": {
    "colab_type": "text",
    "id": "JQxko-t3uMVO"
   },
   "source": [
    "## Attention on this step !! \n",
    "- Please note that for optimal performance your videos should contain frames that are around ~300-600 pixels (on one edge). If you have a larger video (like from an iPhone, first downsize by running this please! :)\n",
    "\n",
    "- Thus, if you're using an iPhone, or such, you'll need to downsample the video first by running the code below**\n",
    "\n",
    "(no need to edit it unless you want to change the size)"
   ]
  },
  {
   "cell_type": "code",
   "execution_count": 0,
   "metadata": {
    "colab": {},
    "colab_type": "code",
    "id": "WpAX3BKY94e0"
   },
   "outputs": [],
   "source": [
    "deeplabcut.DownSampleVideo(video_path, width=300)\n",
    "\n",
    "import os\n",
    "from pathlib import Path\n",
    "videopath2=os.path.join(str(Path(video_path).stem)+'downsampled.'+videotype)\n",
    "print(videopath2)"
   ]
  },
  {
   "cell_type": "markdown",
   "metadata": {
    "colab_type": "text",
    "id": "KJm_Vbx-s5OY"
   },
   "source": [
    "## Lastly, run th cell below to create a pretrained project, analyze your video with your selected pretrained network, plot trajectories, and create a labeled video!:\n",
    "\n",
    "** Note, if you did NOT downsample, change `videopath2` to `video_path`, then run this code block:"
   ]
  },
  {
   "cell_type": "code",
   "execution_count": 0,
   "metadata": {
    "colab": {},
    "colab_type": "code",
    "id": "T9MGgAdIFKPY"
   },
   "outputs": [],
   "source": [
    "path_config_file = deeplabcut.create_pretrained_project(ProjectFolderName, YourName, video_path, videotype=videotype, \n",
    "                                      model=model2use, analyzevideo=True, createlabeledvideo=True, copy_videos=True) #must leave copy_videos=True"
   ]
  },
  {
   "cell_type": "markdown",
   "metadata": {
    "colab_type": "text",
    "id": "WS-KxhBMvEBj"
   },
   "source": [
    "Now, you can move this project from Colab (i.e. download it to your GoogleDrive), and use it like a normal standard project! \n",
    "\n",
    "You can analyze more videos, extract outliers, refine then, and/or then add new key points + label new frames, and retrain if desired. We hope this gives you a good launching point for your work!\n",
    "\n",
    "###Happy DeepLabCutting! Welcome to the Zoo :)\n",
    "\n"
   ]
  },
  {
   "cell_type": "markdown",
   "metadata": {
    "colab_type": "text",
    "id": "KPOqiLmo6d7t"
   },
   "source": [
    "## More advanced options: \n",
    "\n",
    "- If you would now like to customize the video/plots - i.e., color, dot size, threshold for the point to be plotted (pcutoff), please simply edit the \"config.yaml\" file by updating the values below:"
   ]
  },
  {
   "cell_type": "code",
   "execution_count": 0,
   "metadata": {
    "colab": {},
    "colab_type": "code",
    "id": "yGLNVK1q6rIp"
   },
   "outputs": [],
   "source": [
    "# Updating the plotting within the config.yaml file (without opening it ;):\n",
    "\n",
    "#dotsize: size of the dots!\n",
    "#colormap: any matplotlib colormap!\n",
    "#pcutoff: the higher the more conservative the plotting!\n",
    "\n",
    "config_path = path_config_file[0]\n",
    "edits = {'dotsize': 7,\n",
    "          'colormap': 'spring',\n",
    "          'pcutoff': 0.5}\n",
    "deeplabcut.auxiliaryfunctions.edit_config(config_path, edits)"
   ]
  },
  {
   "cell_type": "code",
   "execution_count": 0,
   "metadata": {
    "colab": {},
    "colab_type": "code",
    "id": "Vlc0wZgB7R5e"
   },
   "outputs": [],
   "source": [
    "# re-create the labeled video (first you will need to delete in the folder to the LEFT!):\n",
    "\n",
    "#What is the name of the project you created? (update this)\n",
    "ProjectFolderName = 'myDLCzooProject-teamDLC-2020-05-13'\n",
    "\n",
    "#note, you need to only edit 'video_path' to possibly 'videopath2' based on what you used above!\n",
    "full_video_path = videofile_path = ['/content/'+ProjectFolderName+'/videos/'+video_path]\n",
    "\n",
    "#filter predictions:\n",
    "deeplabcut.filterpredictions(config_path, full_video_path, videotype=videotype)\n",
    "\n",
    "#re-create the video with your edits!\n",
    "deeplabcut.create_labeled_video(config_path, full_video_path, videotype=videotype, filtered=True)"
   ]
  }
 ],
 "metadata": {
  "accelerator": "GPU",
  "colab": {
   "collapsed_sections": [],
   "include_colab_link": true,
   "name": "COLAB_DLC_ModelZoo.ipynb",
   "provenance": [],
   "toc_visible": true
  },
  "kernelspec": {
   "display_name": "venv",
   "language": "python",
   "name": "venv"
  },
  "language_info": {
   "codemirror_mode": {
    "name": "ipython",
    "version": 3
   },
   "file_extension": ".py",
   "mimetype": "text/x-python",
   "name": "python",
   "nbconvert_exporter": "python",
   "pygments_lexer": "ipython3",
   "version": "3.7.7"
  }
 },
 "nbformat": 4,
 "nbformat_minor": 1
}
