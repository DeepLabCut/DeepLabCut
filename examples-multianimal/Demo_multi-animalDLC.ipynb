{
 "cells": [
  {
   "cell_type": "markdown",
   "metadata": {
    "colab_type": "text",
    "id": "N0gDJMy1ywm8"
   },
   "source": [
    "# DeepLabCut Toolbox - DEMO for maDLC\n",
    "https://github.com/AlexEMG/DeepLabCut\n",
    "\n",
    "#### The notebook accompanies the following preprint:\n",
    "\n",
    "*Multi-animal pose estimation and tracking with DeepLabCut.* A. Mathis et al, 2020 in prep.\n",
    "\n",
    "This notebook illustrates how to:\n",
    "\n",
    "- create a multi-animal project\n",
    "- label the data \n",
    "- check the labels \n",
    "- create a multi-animal training dataset\n",
    "- train your new deep neural network \n",
    "- evaluate network\n",
    "- analyze videos\n",
    "- detect tracks \n",
    "- inspect and correct tracks \n",
    "- create videos \n",
    "- create images of scoremaps, pafs, locref output layers"
   ]
  },
  {
   "cell_type": "markdown",
   "metadata": {},
   "source": [
    "### You must have deeplabcut 2.2 installed (upgrade here if needed):\n",
    "- this will NOT break any of your older 2.x projects!"
   ]
  },
  {
   "cell_type": "code",
   "execution_count": null,
   "metadata": {
    "scrolled": false
   },
   "outputs": [],
   "source": [
    "!pip install --upgrade deeplabcut"
   ]
  },
  {
   "cell_type": "code",
   "execution_count": 1,
   "metadata": {},
   "outputs": [
    {
     "name": "stdout",
     "output_type": "stream",
     "text": [
      "/home/mackenzie/DEEPLABCUT/maDLC/DLCdev\n"
     ]
    }
   ],
   "source": [
    "%cd '/home/mackenzie/DEEPLABCUT/maDLC/DLCdev'"
   ]
  },
  {
   "cell_type": "markdown",
   "metadata": {},
   "source": [
    "## Import the toolbox:"
   ]
  },
  {
   "cell_type": "code",
   "execution_count": 2,
   "metadata": {
    "colab": {},
    "colab_type": "code",
    "id": "hTtJxcQ7ywnB",
    "scrolled": false
   },
   "outputs": [
    {
     "data": {
      "text/plain": [
       "'/home/mackenzie/DEEPLABCUT/maDLC/DLCdev/deeplabcut/__init__.py'"
      ]
     },
     "execution_count": 2,
     "metadata": {},
     "output_type": "execute_result"
    }
   ],
   "source": [
    "!export DLClight=False\n",
    "import deeplabcut\n",
    "deeplabcut.__file__"
   ]
  },
  {
   "cell_type": "markdown",
   "metadata": {},
   "source": [
    "# Create a new project\n",
    "\n",
    "It is always good idea to keep the projects seperate if you want to use different networks to analze your data. You should use one project if you are tracking similar subjects/items even if in different environments. This function creates a new project with sub-directories and a basic configuration file in the user defined directory otherwise the project is created in the current working directory."
   ]
  },
  {
   "cell_type": "code",
   "execution_count": null,
   "metadata": {},
   "outputs": [],
   "source": [
    "task='mwm' # Enter the name of your experiment Task\n",
    "experimenter='penguins' # Enter the name of the experimenter\n",
    "video=['/home/mackenzie/Desktop/penguindemo.mp4'] # Enter the paths of your videos OR FOLDER you want to grab frames from.\n",
    "#CRUCIAL: you should take as diverse frames as possible from multiple videos and animals!\n",
    "\n",
    "deeplabcut.create_new_project(task,experimenter,video,copy_videos=True, multianimal=True) \n",
    "\n",
    "# NOTE: The function returns the path, where your project is. \n",
    "# You could also enter this manually (e.g. if the project is already created and you want to pick up, where you stopped...)\n",
    "#path_config_file = '/home/Mackenzie/myDLCProjectFolders/config.yaml' # Enter the path of the config file that was just created from the above step (check the folder)"
   ]
  },
  {
   "cell_type": "markdown",
   "metadata": {},
   "source": [
    "### You also can re-load a project by just updating the path to the config.yaml below:"
   ]
  },
  {
   "cell_type": "code",
   "execution_count": 3,
   "metadata": {},
   "outputs": [],
   "source": [
    "#set path to config.yaml file (printed above!)\n",
    "path_config_file = '/home/mackenzie/DEEPLABCUT/DLCdev-DLC2.2/mwm-penguins-2020-03-31/config.yaml'"
   ]
  },
  {
   "cell_type": "markdown",
   "metadata": {},
   "source": [
    "# CRUCIAL: go edit the config.yaml file that was created! \n",
    "\n",
    "You will have a config.yaml file in your project folder. \n",
    "Crucially, please set:\n",
    "\n",
    "- **individuals**\n",
    "        #set the number of animals, i.e. \"indiv1, indiv2, indiv3\" up to the maximum you expect to see in the\n",
    "         training data. if you have video with morelater, that is fine.\n",
    "- **uniquebodyparts** \n",
    "        #this are points that are not tied to an individual, i.e. something like \"cornerofabox\" or \"LED\"\n",
    "- **multianimalbodyparts** \n",
    "        #this is the real bodypart per individual list (as in \"normal\" DLC). Please use more body parts than \n",
    "         you might have been used to previously. Now that a skeleton is used for training you want to be able\n",
    "         to  connect close parts. i.e. in our mouse demo we had snout, leftear, right ear, tailbase; now you\n",
    "         should also include \"neck\" & \"spine\" points i.e. perhaps spine1, spine2, spine3\n",
    "- **skeleton** \n",
    "         #this is now used during training, so please connect the bodyparts in a graph. \n",
    "         CRUCIAL: You also want to over-connect; i.e. let's say you have head, body, left limb, right limb:\n",
    "         - - head\n",
    "           - body\n",
    "         - - body \n",
    "           - leftlimb\n",
    "         - - body \n",
    "           - rightlimb\n",
    "         - - head \n",
    "           - leftlimb\n",
    "         - - head \n",
    "           - rightlimb\n",
    "         - - leftlimb\n",
    "           - rightlimb\n",
    "           \n",
    "**Plus**, edit the number of frames to extract per video, etc. "
   ]
  },
  {
   "cell_type": "markdown",
   "metadata": {},
   "source": [
    "# Extract frames from videos \n",
    "A key point for a successful feature detector is to select diverse frames, which are typical for the behavior you study that should be labeled.\n",
    "\n",
    "This function selects N frames either uniformly sampled from a particular video (or folder) ('uniform'). Note: this might not yield diverse frames, if the behavior is sparsely distributed (consider using kmeans), and/or select frames manually etc.\n",
    "\n",
    "Also make sure to get select data from different (behavioral) sessions and different animals if those vary substantially (to train an invariant feature detector).\n",
    "\n",
    "Individual images should not be too big (i.e. < 850 x 850 pixel). Although this can be taken care of later as well, it is advisable to crop the frames, to remove unnecessary parts of the frame as much as possible.\n",
    "\n",
    "Always check the output of cropping. If you are happy with the results proceed to labeling."
   ]
  },
  {
   "cell_type": "code",
   "execution_count": null,
   "metadata": {},
   "outputs": [],
   "source": [
    "#AUTOMATIC:\n",
    "deeplabcut.extract_frames(path_config_file) "
   ]
  },
  {
   "cell_type": "markdown",
   "metadata": {},
   "source": [
    "# Label Frames"
   ]
  },
  {
   "cell_type": "code",
   "execution_count": null,
   "metadata": {
    "scrolled": true
   },
   "outputs": [],
   "source": [
    "deeplabcut.label_frames(path_config_file)"
   ]
  },
  {
   "cell_type": "markdown",
   "metadata": {},
   "source": [
    "# Check Labels, by bodypart:"
   ]
  },
  {
   "cell_type": "code",
   "execution_count": null,
   "metadata": {},
   "outputs": [],
   "source": [
    "deeplabcut.check_labels(path_config_file, visualizeindividuals=False)"
   ]
  },
  {
   "cell_type": "markdown",
   "metadata": {},
   "source": [
    "# Check Labels, by individual:\n",
    "\n",
    "You can run this function \"again\" with the flag set to true and it saves both sets of images."
   ]
  },
  {
   "cell_type": "code",
   "execution_count": null,
   "metadata": {
    "colab": {},
    "colab_type": "code",
    "id": "ROlflqQLywnP"
   },
   "outputs": [],
   "source": [
    "deeplabcut.check_labels(path_config_file, visualizeindividuals=True)"
   ]
  },
  {
   "cell_type": "markdown",
   "metadata": {},
   "source": [
    "### Here we have an extra (optional but recommended) step to crop and diversify the images before creating the training set: \n",
    "\n",
    "This is recommended to be able to train in batches, and especially helpful if you have lots of animals. It's worth the few minutes... plus you can then use batch training if your images were not the same size already."
   ]
  },
  {
   "cell_type": "code",
   "execution_count": null,
   "metadata": {},
   "outputs": [],
   "source": [
    "deeplabcut.cropimagesandlabels(path_config_file, userfeedback=False)"
   ]
  },
  {
   "cell_type": "markdown",
   "metadata": {},
   "source": [
    "# Create maDLC training dataset:\n",
    "\n",
    "Here you have several options (as always), and some new defaults! Defaults: firstly, this will use ResNet-50 with imgaug and  secondly, new ADAM optimizer with batch training (if your frames are the same size*). "
   ]
  },
  {
   "cell_type": "code",
   "execution_count": null,
   "metadata": {},
   "outputs": [],
   "source": [
    "deeplabcut.create_multianimaltraining_dataset(path_config_file)"
   ]
  },
  {
   "cell_type": "markdown",
   "metadata": {},
   "source": [
    "#### [optional]: Here is how you can edit the pose_config.yaml before training:"
   ]
  },
  {
   "cell_type": "code",
   "execution_count": null,
   "metadata": {},
   "outputs": [],
   "source": [
    "shuffle=1\n",
    "\n",
    "trainposeconfigfile,testposeconfigfile,snapshotfolder=deeplabcut.return_train_network_path(path_config_file,shuffle=shuffle)\n",
    "edits = {'batch_size': 16,\n",
    "         'optimizer': 'adam',\n",
    "         'grayscale': True,\n",
    "         'rotation': 20,\n",
    "         'covering': True,\n",
    "         'hist_eq': True,\n",
    "         'fliplr': False,\n",
    "         'motion_blur': True,\n",
    "         'multi_step': [[1e-4, 5000], [5*1e-5, 7500], [1e-5, 12000], [1e-6,50000]],\n",
    "         'weigh_only_present_joints': False}\n",
    "cfg_dlc= deeplabcut.auxiliaryfunctions.edit_config(testposeconfigfile, edits)"
   ]
  },
  {
   "cell_type": "markdown",
   "metadata": {
    "colab_type": "text",
    "id": "h9H7eqDLywnV"
   },
   "source": [
    "## Start training the multi-task DNN + Feature Detectors:\n",
    "This function trains the network for a specific shuffle of the training dataset. \n",
    "\n",
    "Training can be stopped at any time w/CNTRL+C. Note that the weights are only stored every 'saveiters' steps. Inn reality, you will train until ~50K, so we save every 5-10K). But, you can store more frequently or display more fequently if you are DEMOing the code. Note, this is a *NEW* training regime, so if you are used to DLC 2.1 (and before), this now takes less time to train.\n"
   ]
  },
  {
   "cell_type": "code",
   "execution_count": null,
   "metadata": {
    "colab": {},
    "colab_type": "code",
    "id": "jg96O2acywnW",
    "scrolled": false
   },
   "outputs": [],
   "source": [
    "#which shuffle do you want to train/evaluate, and analyze with?\n",
    "shuffle = 3 \n",
    "\n",
    "deeplabcut.train_network(path_config_file, shuffle=shuffle, saveiters=1000, displayiters=100, maxiters=30000)\n",
    "#notice the variables \"saveiters\" and \"dsiplayiters\" that can be set in the function"
   ]
  },
  {
   "cell_type": "markdown",
   "metadata": {
    "colab_type": "text",
    "id": "CCzxVT_gywnc"
   },
   "source": [
    "## Evaluate the trained network\n",
    "\n",
    "This function evaluates a trained model for a specific shuffle/shuffles at a particular training state (snapshot) or on all the states. The network is evaluated on the data set (images) and stores the results as .csv file in a subdirectory under **evaluation-results**.\n",
    "\n",
    "You can change various parameters in the ```config.yaml``` file of this project. For the evaluation one can change pcutoff. This cutoff also influences how likely estimated postions need to be so that they are shown in the plots."
   ]
  },
  {
   "cell_type": "code",
   "execution_count": 18,
   "metadata": {
    "colab": {},
    "colab_type": "code",
    "id": "kuprPKDdywne",
    "scrolled": false
   },
   "outputs": [
    {
     "name": "stdout",
     "output_type": "stream",
     "text": [
      "/home/mackenzie/DEEPLABCUT/DLCdev-DLC2.2/mwm-penguins-2020-03-31/evaluation-results/  already exists!\n",
      "/home/mackenzie/DEEPLABCUT/DLCdev-DLC2.2/mwm-penguins-2020-03-31/evaluation-results/iteration-0/mwmMar31-trainset95shuffle3  already exists!\n",
      "Running  DLC_resnet50_mwmMar31shuffle3_30000  with # of trainingiterations: 30000\n",
      "Model already evaluated. /home/mackenzie/DEEPLABCUT/DLCdev-DLC2.2/mwm-penguins-2020-03-31/evaluation-results/iteration-0/mwmMar31-trainset95shuffle3/DLC_resnet50_mwmMar31shuffle3_30000-snapshot-30000.h5\n"
     ]
    }
   ],
   "source": [
    "deeplabcut.evaluate_network(path_config_file,Shuffles=[shuffle], plotting=True,c_engine=False)"
   ]
  },
  {
   "cell_type": "markdown",
   "metadata": {},
   "source": [
    "## Check predictions visually before moving onwards:\n",
    "\n",
    "- `extract_save_all_maps` allows you to plot and save the scoremaps, lofref, and pafs\n",
    "\n",
    "- `create_video_with_all_detections` allows you to create a video of all scoremap detections, plotted a points (this is not the final product!) We recommend running this on a short video (perhaps one that you used for labeling). "
   ]
  },
  {
   "cell_type": "code",
   "execution_count": 19,
   "metadata": {
    "scrolled": false
   },
   "outputs": [
    {
     "name": "stdout",
     "output_type": "stream",
     "text": [
      "/home/mackenzie/DEEPLABCUT/DLCdev-DLC2.2/mwm-penguins-2020-03-31/evaluation-results/  already exists!\n",
      "/home/mackenzie/DEEPLABCUT/DLCdev-DLC2.2/mwm-penguins-2020-03-31/evaluation-results/iteration-0/mwmMar31-trainset95shuffle3  already exists!\n",
      "Extracting maps for  DLC_resnet50_mwmMar31shuffle3_30000  with # of trainingiterations: 30000\n",
      "Initializing ResNet\n",
      "Activating extracting of PAFs\n",
      "INFO:tensorflow:Restoring parameters from /home/mackenzie/DEEPLABCUT/DLCdev-DLC2.2/mwm-penguins-2020-03-31/dlc-models/iteration-0/mwmMar31-trainset95shuffle3/train/snapshot-30000\n"
     ]
    },
    {
     "name": "stderr",
     "output_type": "stream",
     "text": [
      "INFO:tensorflow:Restoring parameters from /home/mackenzie/DEEPLABCUT/DLCdev-DLC2.2/mwm-penguins-2020-03-31/dlc-models/iteration-0/mwmMar31-trainset95shuffle3/train/snapshot-30000\n",
      "\n",
      "0it [00:00, ?it/s]\u001b[A"
     ]
    },
    {
     "name": "stdout",
     "output_type": "stream",
     "text": [
      "Analyzing data...\n"
     ]
    },
    {
     "name": "stderr",
     "output_type": "stream",
     "text": [
      "\n",
      "1it [00:01,  1.13s/it]\u001b[A\n",
      "2it [00:01,  1.52it/s]\u001b[A\n",
      "\n",
      "  0%|          | 0/2 [00:00<?, ?it/s]\u001b[A\n",
      " 50%|█████     | 1/2 [00:03<00:03,  3.37s/it]\u001b[A\n",
      "100%|██████████| 2/2 [00:06<00:00,  3.33s/it]\u001b[A\n"
     ]
    }
   ],
   "source": [
    "deeplabcut.extract_save_all_maps(path_config_file, shuffle=shuffle, Indices=[0, 5])\n",
    "# you can drop \"Indices\" to run this on all training/testing images \n",
    "#This creates a new folder called \"maps\" within your evalution-results folder (shuffle specific). "
   ]
  },
  {
   "cell_type": "markdown",
   "metadata": {
    "colab_type": "text",
    "id": "XeqYWGaXywnj"
   },
   "source": [
    "## Analyzing videos\n",
    "\n",
    "- [1] we will analyze a new video \n",
    "- [2] utilize a new function that plots *all* detections, just to check quality (again, i.e. in addition to the network evaluation ). \n",
    "\n",
    "`deeplabcut.analyze_videos`: This function extracts the pose based on a trained network from videos. The user can choose the trained network - by default the most recent snapshot is used to analyse the videos. However, the user can also specify the snapshot index for the variable **snapshotindex** in the **config.yaml** file).\n",
    "\n",
    "In maDLC the under-the-hood code is quite updated, and also now has c-code that would need to be comiled first. There is a non-c-code option though! set `c_engine=False`. It's a bit slower, but the outcome is the same. \n",
    "\n",
    "The results are stored in hd5 file in the same directory, where the video resides. The pose array (pose vs. frame index) can also be exported as csv file (set flag to...). "
   ]
  },
  {
   "cell_type": "code",
   "execution_count": 20,
   "metadata": {
    "colab": {},
    "colab_type": "code",
    "id": "Vv9iHHLlywnl"
   },
   "outputs": [],
   "source": [
    "# Set a video path:\n",
    "#The video can be the one you trained with and new videos that look similar, i.e. same experiments, etc.\n",
    "# TIP: You can add individual videos, OR a path to a folder - it will skip videos that are already analyzed once.\n",
    "\n",
    "videofile_path = '/home/mackenzie/Desktop/penguindemo.mp4'      "
   ]
  },
  {
   "cell_type": "code",
   "execution_count": 24,
   "metadata": {
    "colab": {},
    "colab_type": "code",
    "id": "CFbPPD4hywnq",
    "scrolled": false
   },
   "outputs": [
    {
     "name": "stdout",
     "output_type": "stream",
     "text": [
      "Start Analyzing my video(s)!\n",
      "Using snapshot-30000 for model /home/mackenzie/DEEPLABCUT/DLCdev-DLC2.2/mwm-penguins-2020-03-31/dlc-models/iteration-0/mwmMar31-trainset95shuffle3\n",
      "Initializing ResNet\n",
      "Activating extracting of PAFs\n",
      "INFO:tensorflow:Restoring parameters from /home/mackenzie/DEEPLABCUT/DLCdev-DLC2.2/mwm-penguins-2020-03-31/dlc-models/iteration-0/mwmMar31-trainset95shuffle3/train/snapshot-30000\n"
     ]
    },
    {
     "name": "stderr",
     "output_type": "stream",
     "text": [
      "INFO:tensorflow:Restoring parameters from /home/mackenzie/DEEPLABCUT/DLCdev-DLC2.2/mwm-penguins-2020-03-31/dlc-models/iteration-0/mwmMar31-trainset95shuffle3/train/snapshot-30000\n"
     ]
    },
    {
     "name": "stdout",
     "output_type": "stream",
     "text": [
      "Starting to analyze %  /home/mackenzie/Desktop/penguindemo.mp4\n",
      "Video already analyzed! /home/mackenzie/Desktop/penguindemoDLC_resnet50_mwmMar31shuffle3_30000.h5\n",
      "The videos are analyzed. Time to assemble animals and track 'em... \n",
      " Call 'create_video_with_all_detections' to check multi-animal detection quality before tracking.\n",
      "If the tracking is not satisfactory for some videos, consider expanding the training set. You can use the function 'extract_outlier_frames' to extract a few representative outlier frames.\n"
     ]
    }
   ],
   "source": [
    "#NOTE: c_engine = True is faster, but requires you complie c code first.  *see github for tips!\n",
    "#### This is just for c-engine=True ###\n",
    "import os, sys\n",
    "nmspath = 'deeplabcut/pose_estimation_tensorflow/lib/nms_cython'\n",
    "sys.path.append(os.path.join('/home/mackenzie/anaconda3/envs/DLC3_7/lib/python3.7/site-packages',nmspath))\n",
    "#######################################\n",
    "\n",
    "print(\"Start Analyzing my video(s)!\")\n",
    "scorername = deeplabcut.analyze_videos(path_config_file,[videofile_path], shuffle=shuffle, videotype='.mp4', c_engine=True)"
   ]
  },
  {
   "cell_type": "code",
   "execution_count": 26,
   "metadata": {},
   "outputs": [
    {
     "name": "stderr",
     "output_type": "stream",
     "text": [
      "\n",
      "  0%|          | 0/70 [00:00<?, ?it/s]\u001b[A"
     ]
    },
    {
     "name": "stdout",
     "output_type": "stream",
     "text": [
      "Creating labeled video for  penguindemo\n",
      "{'nms radius': 5.0, 'minimal confidence': 0.01, 'PAFgraph': [[0, 1], [1, 3], [1, 4], [1, 2], [0, 2], [0, 3], [0, 4], [3, 2], [4, 2]], 'all_joints': [[0], [1], [2], [3], [4]], 'all_joints_names': ['head', 'neck', 'body', 'wing1', 'wing2'], 'nframes': 70, 'c_engine': True}\n",
      "70\n"
     ]
    },
    {
     "name": "stderr",
     "output_type": "stream",
     "text": [
      "\n",
      " 17%|█▋        | 12/70 [00:00<00:00, 108.85it/s]\u001b[A\n",
      " 36%|███▌      | 25/70 [00:00<00:00, 112.96it/s]\u001b[A\n",
      " 53%|█████▎    | 37/70 [00:00<00:00, 114.14it/s]\u001b[A\n",
      " 70%|███████   | 49/70 [00:00<00:00, 115.67it/s]\u001b[A\n",
      "100%|██████████| 70/70 [00:00<00:00, 121.99it/s]\u001b[A\n"
     ]
    }
   ],
   "source": [
    "#You input the config path, video path, and then the scorer name:\n",
    "#(note, we extracted the `scorername` now from `analyze_videos` or you can pass it here:)\n",
    "# scorername = 'DLC_resnet50_mwmMar31shuffle3_30000'\n",
    "\n",
    "# There are two pose_config.yaml inputs you might want to change (nmsradius, and minconfidence). \n",
    "# Here is a simple way to do that within the notebook:\n",
    "\n",
    "trainposeconfigfile,testposeconfigfile,snapshotfolder=deeplabcut.return_train_network_path(path_config_file,shuffle=2)\n",
    "cfg_dlc=deeplabcut.auxiliaryfunctions.read_plainconfig(testposeconfigfile)\n",
    "cfg_dlc['nmsradius']=1.\n",
    "cfg_dlc['minconfidence']=.01\n",
    "deeplabcut.auxiliaryfunctions.write_plainconfig(testposeconfigfile,cfg_dlc)\n",
    "\n",
    "deeplabcut.create_video_with_all_detections(path_config_file, [videofile_path], scorername)"
   ]
  },
  {
   "cell_type": "markdown",
   "metadata": {},
   "source": [
    "## Create the Multi-Animal Tracklets! \n",
    "\n",
    "Please note, this has quite a few parameters, and they need to be cross-validated for best performance. \n",
    "\n",
    "Thus, for eah project we strongly suggest you take the time to cross-validate. \n",
    "\n",
    "## WIP : Here is how... "
   ]
  },
  {
   "cell_type": "code",
   "execution_count": 28,
   "metadata": {},
   "outputs": [],
   "source": [
    "deeplabcut.convert_detections2tracklets?"
   ]
  },
  {
   "cell_type": "markdown",
   "metadata": {},
   "source": [
    "#### This function has many parameters, and it's worith it to check out the docstring! ^"
   ]
  },
  {
   "cell_type": "code",
   "execution_count": 29,
   "metadata": {},
   "outputs": [
    {
     "name": "stderr",
     "output_type": "stream",
     "text": [
      "\n",
      "0it [00:00, ?it/s]\u001b[A"
     ]
    },
    {
     "name": "stdout",
     "output_type": "stream",
     "text": [
      "Using snapshot-30000 for model /home/mackenzie/DEEPLABCUT/DLCdev-DLC2.2/mwm-penguins-2020-03-31/dlc-models/iteration-0/mwmMar31-trainset95shuffle3\n",
      "['/home/mackenzie/Desktop/penguindemo.mp4']\n",
      "Processing...  /home/mackenzie/Desktop/penguindemo.mp4\n",
      "Analyzing /home/mackenzie/Desktop/penguindemoDLC_resnet50_mwmMar31shuffle3_30000.h5\n"
     ]
    },
    {
     "name": "stderr",
     "output_type": "stream",
     "text": [
      "\n",
      "2it [00:00,  2.62it/s]\u001b[A\n",
      "5it [00:00,  3.58it/s]\u001b[A\n",
      "9it [00:01,  4.87it/s]\u001b[A\n",
      "13it [00:01,  6.52it/s]\u001b[A\n",
      "16it [00:01,  8.47it/s]\u001b[A\n",
      "19it [00:01, 10.74it/s]\u001b[A\n",
      "22it [00:01, 13.27it/s]\u001b[A\n",
      "26it [00:01, 16.06it/s]\u001b[A\n",
      "29it [00:01, 18.43it/s]\u001b[A\n",
      "33it [00:01, 21.34it/s]\u001b[A\n",
      "37it [00:01, 24.25it/s]\u001b[A\n",
      "41it [00:02, 25.82it/s]\u001b[A\n",
      "45it [00:02, 28.63it/s]\u001b[A\n",
      "49it [00:02, 30.14it/s]\u001b[A\n",
      "53it [00:02, 31.43it/s]\u001b[A\n",
      "57it [00:02, 32.49it/s]\u001b[A\n",
      "61it [00:02, 34.19it/s]\u001b[A\n",
      "66it [00:02, 35.75it/s]\u001b[A\n",
      "70it [00:02, 24.61it/s]\u001b[A"
     ]
    },
    {
     "name": "stdout",
     "output_type": "stream",
     "text": [
      "The tracklets were created. Now you can 'refine_tracklets' \n",
      " You can create labeled videos with 'create_labeled_video'.\n"
     ]
    },
    {
     "name": "stderr",
     "output_type": "stream",
     "text": [
      "\n"
     ]
    }
   ],
   "source": [
    "#assemble tracklets:\n",
    "deeplabcut.convert_detections2tracklets(path_config_file, [videofile_path], shuffle=shuffle, videotype='mp4')"
   ]
  },
  {
   "cell_type": "markdown",
   "metadata": {},
   "source": [
    "## Now you should manually verfiy the tracks and correct them if needed! "
   ]
  },
  {
   "cell_type": "code",
   "execution_count": 32,
   "metadata": {},
   "outputs": [],
   "source": [
    "deeplabcut.refine_tracklets?"
   ]
  },
  {
   "cell_type": "code",
   "execution_count": 34,
   "metadata": {},
   "outputs": [
    {
     "data": {
      "application/javascript": [
       "/* Put everything inside the global mpl namespace */\n",
       "window.mpl = {};\n",
       "\n",
       "\n",
       "mpl.get_websocket_type = function() {\n",
       "    if (typeof(WebSocket) !== 'undefined') {\n",
       "        return WebSocket;\n",
       "    } else if (typeof(MozWebSocket) !== 'undefined') {\n",
       "        return MozWebSocket;\n",
       "    } else {\n",
       "        alert('Your browser does not have WebSocket support.' +\n",
       "              'Please try Chrome, Safari or Firefox ≥ 6. ' +\n",
       "              'Firefox 4 and 5 are also supported but you ' +\n",
       "              'have to enable WebSockets in about:config.');\n",
       "    };\n",
       "}\n",
       "\n",
       "mpl.figure = function(figure_id, websocket, ondownload, parent_element) {\n",
       "    this.id = figure_id;\n",
       "\n",
       "    this.ws = websocket;\n",
       "\n",
       "    this.supports_binary = (this.ws.binaryType != undefined);\n",
       "\n",
       "    if (!this.supports_binary) {\n",
       "        var warnings = document.getElementById(\"mpl-warnings\");\n",
       "        if (warnings) {\n",
       "            warnings.style.display = 'block';\n",
       "            warnings.textContent = (\n",
       "                \"This browser does not support binary websocket messages. \" +\n",
       "                    \"Performance may be slow.\");\n",
       "        }\n",
       "    }\n",
       "\n",
       "    this.imageObj = new Image();\n",
       "\n",
       "    this.context = undefined;\n",
       "    this.message = undefined;\n",
       "    this.canvas = undefined;\n",
       "    this.rubberband_canvas = undefined;\n",
       "    this.rubberband_context = undefined;\n",
       "    this.format_dropdown = undefined;\n",
       "\n",
       "    this.image_mode = 'full';\n",
       "\n",
       "    this.root = $('<div/>');\n",
       "    this._root_extra_style(this.root)\n",
       "    this.root.attr('style', 'display: inline-block');\n",
       "\n",
       "    $(parent_element).append(this.root);\n",
       "\n",
       "    this._init_header(this);\n",
       "    this._init_canvas(this);\n",
       "    this._init_toolbar(this);\n",
       "\n",
       "    var fig = this;\n",
       "\n",
       "    this.waiting = false;\n",
       "\n",
       "    this.ws.onopen =  function () {\n",
       "            fig.send_message(\"supports_binary\", {value: fig.supports_binary});\n",
       "            fig.send_message(\"send_image_mode\", {});\n",
       "            if (mpl.ratio != 1) {\n",
       "                fig.send_message(\"set_dpi_ratio\", {'dpi_ratio': mpl.ratio});\n",
       "            }\n",
       "            fig.send_message(\"refresh\", {});\n",
       "        }\n",
       "\n",
       "    this.imageObj.onload = function() {\n",
       "            if (fig.image_mode == 'full') {\n",
       "                // Full images could contain transparency (where diff images\n",
       "                // almost always do), so we need to clear the canvas so that\n",
       "                // there is no ghosting.\n",
       "                fig.context.clearRect(0, 0, fig.canvas.width, fig.canvas.height);\n",
       "            }\n",
       "            fig.context.drawImage(fig.imageObj, 0, 0);\n",
       "        };\n",
       "\n",
       "    this.imageObj.onunload = function() {\n",
       "        fig.ws.close();\n",
       "    }\n",
       "\n",
       "    this.ws.onmessage = this._make_on_message_function(this);\n",
       "\n",
       "    this.ondownload = ondownload;\n",
       "}\n",
       "\n",
       "mpl.figure.prototype._init_header = function() {\n",
       "    var titlebar = $(\n",
       "        '<div class=\"ui-dialog-titlebar ui-widget-header ui-corner-all ' +\n",
       "        'ui-helper-clearfix\"/>');\n",
       "    var titletext = $(\n",
       "        '<div class=\"ui-dialog-title\" style=\"width: 100%; ' +\n",
       "        'text-align: center; padding: 3px;\"/>');\n",
       "    titlebar.append(titletext)\n",
       "    this.root.append(titlebar);\n",
       "    this.header = titletext[0];\n",
       "}\n",
       "\n",
       "\n",
       "\n",
       "mpl.figure.prototype._canvas_extra_style = function(canvas_div) {\n",
       "\n",
       "}\n",
       "\n",
       "\n",
       "mpl.figure.prototype._root_extra_style = function(canvas_div) {\n",
       "\n",
       "}\n",
       "\n",
       "mpl.figure.prototype._init_canvas = function() {\n",
       "    var fig = this;\n",
       "\n",
       "    var canvas_div = $('<div/>');\n",
       "\n",
       "    canvas_div.attr('style', 'position: relative; clear: both; outline: 0');\n",
       "\n",
       "    function canvas_keyboard_event(event) {\n",
       "        return fig.key_event(event, event['data']);\n",
       "    }\n",
       "\n",
       "    canvas_div.keydown('key_press', canvas_keyboard_event);\n",
       "    canvas_div.keyup('key_release', canvas_keyboard_event);\n",
       "    this.canvas_div = canvas_div\n",
       "    this._canvas_extra_style(canvas_div)\n",
       "    this.root.append(canvas_div);\n",
       "\n",
       "    var canvas = $('<canvas/>');\n",
       "    canvas.addClass('mpl-canvas');\n",
       "    canvas.attr('style', \"left: 0; top: 0; z-index: 0; outline: 0\")\n",
       "\n",
       "    this.canvas = canvas[0];\n",
       "    this.context = canvas[0].getContext(\"2d\");\n",
       "\n",
       "    var backingStore = this.context.backingStorePixelRatio ||\n",
       "\tthis.context.webkitBackingStorePixelRatio ||\n",
       "\tthis.context.mozBackingStorePixelRatio ||\n",
       "\tthis.context.msBackingStorePixelRatio ||\n",
       "\tthis.context.oBackingStorePixelRatio ||\n",
       "\tthis.context.backingStorePixelRatio || 1;\n",
       "\n",
       "    mpl.ratio = (window.devicePixelRatio || 1) / backingStore;\n",
       "\n",
       "    var rubberband = $('<canvas/>');\n",
       "    rubberband.attr('style', \"position: absolute; left: 0; top: 0; z-index: 1;\")\n",
       "\n",
       "    var pass_mouse_events = true;\n",
       "\n",
       "    canvas_div.resizable({\n",
       "        start: function(event, ui) {\n",
       "            pass_mouse_events = false;\n",
       "        },\n",
       "        resize: function(event, ui) {\n",
       "            fig.request_resize(ui.size.width, ui.size.height);\n",
       "        },\n",
       "        stop: function(event, ui) {\n",
       "            pass_mouse_events = true;\n",
       "            fig.request_resize(ui.size.width, ui.size.height);\n",
       "        },\n",
       "    });\n",
       "\n",
       "    function mouse_event_fn(event) {\n",
       "        if (pass_mouse_events)\n",
       "            return fig.mouse_event(event, event['data']);\n",
       "    }\n",
       "\n",
       "    rubberband.mousedown('button_press', mouse_event_fn);\n",
       "    rubberband.mouseup('button_release', mouse_event_fn);\n",
       "    // Throttle sequential mouse events to 1 every 20ms.\n",
       "    rubberband.mousemove('motion_notify', mouse_event_fn);\n",
       "\n",
       "    rubberband.mouseenter('figure_enter', mouse_event_fn);\n",
       "    rubberband.mouseleave('figure_leave', mouse_event_fn);\n",
       "\n",
       "    canvas_div.on(\"wheel\", function (event) {\n",
       "        event = event.originalEvent;\n",
       "        event['data'] = 'scroll'\n",
       "        if (event.deltaY < 0) {\n",
       "            event.step = 1;\n",
       "        } else {\n",
       "            event.step = -1;\n",
       "        }\n",
       "        mouse_event_fn(event);\n",
       "    });\n",
       "\n",
       "    canvas_div.append(canvas);\n",
       "    canvas_div.append(rubberband);\n",
       "\n",
       "    this.rubberband = rubberband;\n",
       "    this.rubberband_canvas = rubberband[0];\n",
       "    this.rubberband_context = rubberband[0].getContext(\"2d\");\n",
       "    this.rubberband_context.strokeStyle = \"#000000\";\n",
       "\n",
       "    this._resize_canvas = function(width, height) {\n",
       "        // Keep the size of the canvas, canvas container, and rubber band\n",
       "        // canvas in synch.\n",
       "        canvas_div.css('width', width)\n",
       "        canvas_div.css('height', height)\n",
       "\n",
       "        canvas.attr('width', width * mpl.ratio);\n",
       "        canvas.attr('height', height * mpl.ratio);\n",
       "        canvas.attr('style', 'width: ' + width + 'px; height: ' + height + 'px;');\n",
       "\n",
       "        rubberband.attr('width', width);\n",
       "        rubberband.attr('height', height);\n",
       "    }\n",
       "\n",
       "    // Set the figure to an initial 600x600px, this will subsequently be updated\n",
       "    // upon first draw.\n",
       "    this._resize_canvas(600, 600);\n",
       "\n",
       "    // Disable right mouse context menu.\n",
       "    $(this.rubberband_canvas).bind(\"contextmenu\",function(e){\n",
       "        return false;\n",
       "    });\n",
       "\n",
       "    function set_focus () {\n",
       "        canvas.focus();\n",
       "        canvas_div.focus();\n",
       "    }\n",
       "\n",
       "    window.setTimeout(set_focus, 100);\n",
       "}\n",
       "\n",
       "mpl.figure.prototype._init_toolbar = function() {\n",
       "    var fig = this;\n",
       "\n",
       "    var nav_element = $('<div/>')\n",
       "    nav_element.attr('style', 'width: 100%');\n",
       "    this.root.append(nav_element);\n",
       "\n",
       "    // Define a callback function for later on.\n",
       "    function toolbar_event(event) {\n",
       "        return fig.toolbar_button_onclick(event['data']);\n",
       "    }\n",
       "    function toolbar_mouse_event(event) {\n",
       "        return fig.toolbar_button_onmouseover(event['data']);\n",
       "    }\n",
       "\n",
       "    for(var toolbar_ind in mpl.toolbar_items) {\n",
       "        var name = mpl.toolbar_items[toolbar_ind][0];\n",
       "        var tooltip = mpl.toolbar_items[toolbar_ind][1];\n",
       "        var image = mpl.toolbar_items[toolbar_ind][2];\n",
       "        var method_name = mpl.toolbar_items[toolbar_ind][3];\n",
       "\n",
       "        if (!name) {\n",
       "            // put a spacer in here.\n",
       "            continue;\n",
       "        }\n",
       "        var button = $('<button/>');\n",
       "        button.addClass('ui-button ui-widget ui-state-default ui-corner-all ' +\n",
       "                        'ui-button-icon-only');\n",
       "        button.attr('role', 'button');\n",
       "        button.attr('aria-disabled', 'false');\n",
       "        button.click(method_name, toolbar_event);\n",
       "        button.mouseover(tooltip, toolbar_mouse_event);\n",
       "\n",
       "        var icon_img = $('<span/>');\n",
       "        icon_img.addClass('ui-button-icon-primary ui-icon');\n",
       "        icon_img.addClass(image);\n",
       "        icon_img.addClass('ui-corner-all');\n",
       "\n",
       "        var tooltip_span = $('<span/>');\n",
       "        tooltip_span.addClass('ui-button-text');\n",
       "        tooltip_span.html(tooltip);\n",
       "\n",
       "        button.append(icon_img);\n",
       "        button.append(tooltip_span);\n",
       "\n",
       "        nav_element.append(button);\n",
       "    }\n",
       "\n",
       "    var fmt_picker_span = $('<span/>');\n",
       "\n",
       "    var fmt_picker = $('<select/>');\n",
       "    fmt_picker.addClass('mpl-toolbar-option ui-widget ui-widget-content');\n",
       "    fmt_picker_span.append(fmt_picker);\n",
       "    nav_element.append(fmt_picker_span);\n",
       "    this.format_dropdown = fmt_picker[0];\n",
       "\n",
       "    for (var ind in mpl.extensions) {\n",
       "        var fmt = mpl.extensions[ind];\n",
       "        var option = $(\n",
       "            '<option/>', {selected: fmt === mpl.default_extension}).html(fmt);\n",
       "        fmt_picker.append(option)\n",
       "    }\n",
       "\n",
       "    // Add hover states to the ui-buttons\n",
       "    $( \".ui-button\" ).hover(\n",
       "        function() { $(this).addClass(\"ui-state-hover\");},\n",
       "        function() { $(this).removeClass(\"ui-state-hover\");}\n",
       "    );\n",
       "\n",
       "    var status_bar = $('<span class=\"mpl-message\"/>');\n",
       "    nav_element.append(status_bar);\n",
       "    this.message = status_bar[0];\n",
       "}\n",
       "\n",
       "mpl.figure.prototype.request_resize = function(x_pixels, y_pixels) {\n",
       "    // Request matplotlib to resize the figure. Matplotlib will then trigger a resize in the client,\n",
       "    // which will in turn request a refresh of the image.\n",
       "    this.send_message('resize', {'width': x_pixels, 'height': y_pixels});\n",
       "}\n",
       "\n",
       "mpl.figure.prototype.send_message = function(type, properties) {\n",
       "    properties['type'] = type;\n",
       "    properties['figure_id'] = this.id;\n",
       "    this.ws.send(JSON.stringify(properties));\n",
       "}\n",
       "\n",
       "mpl.figure.prototype.send_draw_message = function() {\n",
       "    if (!this.waiting) {\n",
       "        this.waiting = true;\n",
       "        this.ws.send(JSON.stringify({type: \"draw\", figure_id: this.id}));\n",
       "    }\n",
       "}\n",
       "\n",
       "\n",
       "mpl.figure.prototype.handle_save = function(fig, msg) {\n",
       "    var format_dropdown = fig.format_dropdown;\n",
       "    var format = format_dropdown.options[format_dropdown.selectedIndex].value;\n",
       "    fig.ondownload(fig, format);\n",
       "}\n",
       "\n",
       "\n",
       "mpl.figure.prototype.handle_resize = function(fig, msg) {\n",
       "    var size = msg['size'];\n",
       "    if (size[0] != fig.canvas.width || size[1] != fig.canvas.height) {\n",
       "        fig._resize_canvas(size[0], size[1]);\n",
       "        fig.send_message(\"refresh\", {});\n",
       "    };\n",
       "}\n",
       "\n",
       "mpl.figure.prototype.handle_rubberband = function(fig, msg) {\n",
       "    var x0 = msg['x0'] / mpl.ratio;\n",
       "    var y0 = (fig.canvas.height - msg['y0']) / mpl.ratio;\n",
       "    var x1 = msg['x1'] / mpl.ratio;\n",
       "    var y1 = (fig.canvas.height - msg['y1']) / mpl.ratio;\n",
       "    x0 = Math.floor(x0) + 0.5;\n",
       "    y0 = Math.floor(y0) + 0.5;\n",
       "    x1 = Math.floor(x1) + 0.5;\n",
       "    y1 = Math.floor(y1) + 0.5;\n",
       "    var min_x = Math.min(x0, x1);\n",
       "    var min_y = Math.min(y0, y1);\n",
       "    var width = Math.abs(x1 - x0);\n",
       "    var height = Math.abs(y1 - y0);\n",
       "\n",
       "    fig.rubberband_context.clearRect(\n",
       "        0, 0, fig.canvas.width, fig.canvas.height);\n",
       "\n",
       "    fig.rubberband_context.strokeRect(min_x, min_y, width, height);\n",
       "}\n",
       "\n",
       "mpl.figure.prototype.handle_figure_label = function(fig, msg) {\n",
       "    // Updates the figure title.\n",
       "    fig.header.textContent = msg['label'];\n",
       "}\n",
       "\n",
       "mpl.figure.prototype.handle_cursor = function(fig, msg) {\n",
       "    var cursor = msg['cursor'];\n",
       "    switch(cursor)\n",
       "    {\n",
       "    case 0:\n",
       "        cursor = 'pointer';\n",
       "        break;\n",
       "    case 1:\n",
       "        cursor = 'default';\n",
       "        break;\n",
       "    case 2:\n",
       "        cursor = 'crosshair';\n",
       "        break;\n",
       "    case 3:\n",
       "        cursor = 'move';\n",
       "        break;\n",
       "    }\n",
       "    fig.rubberband_canvas.style.cursor = cursor;\n",
       "}\n",
       "\n",
       "mpl.figure.prototype.handle_message = function(fig, msg) {\n",
       "    fig.message.textContent = msg['message'];\n",
       "}\n",
       "\n",
       "mpl.figure.prototype.handle_draw = function(fig, msg) {\n",
       "    // Request the server to send over a new figure.\n",
       "    fig.send_draw_message();\n",
       "}\n",
       "\n",
       "mpl.figure.prototype.handle_image_mode = function(fig, msg) {\n",
       "    fig.image_mode = msg['mode'];\n",
       "}\n",
       "\n",
       "mpl.figure.prototype.updated_canvas_event = function() {\n",
       "    // Called whenever the canvas gets updated.\n",
       "    this.send_message(\"ack\", {});\n",
       "}\n",
       "\n",
       "// A function to construct a web socket function for onmessage handling.\n",
       "// Called in the figure constructor.\n",
       "mpl.figure.prototype._make_on_message_function = function(fig) {\n",
       "    return function socket_on_message(evt) {\n",
       "        if (evt.data instanceof Blob) {\n",
       "            /* FIXME: We get \"Resource interpreted as Image but\n",
       "             * transferred with MIME type text/plain:\" errors on\n",
       "             * Chrome.  But how to set the MIME type?  It doesn't seem\n",
       "             * to be part of the websocket stream */\n",
       "            evt.data.type = \"image/png\";\n",
       "\n",
       "            /* Free the memory for the previous frames */\n",
       "            if (fig.imageObj.src) {\n",
       "                (window.URL || window.webkitURL).revokeObjectURL(\n",
       "                    fig.imageObj.src);\n",
       "            }\n",
       "\n",
       "            fig.imageObj.src = (window.URL || window.webkitURL).createObjectURL(\n",
       "                evt.data);\n",
       "            fig.updated_canvas_event();\n",
       "            fig.waiting = false;\n",
       "            return;\n",
       "        }\n",
       "        else if (typeof evt.data === 'string' && evt.data.slice(0, 21) == \"data:image/png;base64\") {\n",
       "            fig.imageObj.src = evt.data;\n",
       "            fig.updated_canvas_event();\n",
       "            fig.waiting = false;\n",
       "            return;\n",
       "        }\n",
       "\n",
       "        var msg = JSON.parse(evt.data);\n",
       "        var msg_type = msg['type'];\n",
       "\n",
       "        // Call the  \"handle_{type}\" callback, which takes\n",
       "        // the figure and JSON message as its only arguments.\n",
       "        try {\n",
       "            var callback = fig[\"handle_\" + msg_type];\n",
       "        } catch (e) {\n",
       "            console.log(\"No handler for the '\" + msg_type + \"' message type: \", msg);\n",
       "            return;\n",
       "        }\n",
       "\n",
       "        if (callback) {\n",
       "            try {\n",
       "                // console.log(\"Handling '\" + msg_type + \"' message: \", msg);\n",
       "                callback(fig, msg);\n",
       "            } catch (e) {\n",
       "                console.log(\"Exception inside the 'handler_\" + msg_type + \"' callback:\", e, e.stack, msg);\n",
       "            }\n",
       "        }\n",
       "    };\n",
       "}\n",
       "\n",
       "// from http://stackoverflow.com/questions/1114465/getting-mouse-location-in-canvas\n",
       "mpl.findpos = function(e) {\n",
       "    //this section is from http://www.quirksmode.org/js/events_properties.html\n",
       "    var targ;\n",
       "    if (!e)\n",
       "        e = window.event;\n",
       "    if (e.target)\n",
       "        targ = e.target;\n",
       "    else if (e.srcElement)\n",
       "        targ = e.srcElement;\n",
       "    if (targ.nodeType == 3) // defeat Safari bug\n",
       "        targ = targ.parentNode;\n",
       "\n",
       "    // jQuery normalizes the pageX and pageY\n",
       "    // pageX,Y are the mouse positions relative to the document\n",
       "    // offset() returns the position of the element relative to the document\n",
       "    var x = e.pageX - $(targ).offset().left;\n",
       "    var y = e.pageY - $(targ).offset().top;\n",
       "\n",
       "    return {\"x\": x, \"y\": y};\n",
       "};\n",
       "\n",
       "/*\n",
       " * return a copy of an object with only non-object keys\n",
       " * we need this to avoid circular references\n",
       " * http://stackoverflow.com/a/24161582/3208463\n",
       " */\n",
       "function simpleKeys (original) {\n",
       "  return Object.keys(original).reduce(function (obj, key) {\n",
       "    if (typeof original[key] !== 'object')\n",
       "        obj[key] = original[key]\n",
       "    return obj;\n",
       "  }, {});\n",
       "}\n",
       "\n",
       "mpl.figure.prototype.mouse_event = function(event, name) {\n",
       "    var canvas_pos = mpl.findpos(event)\n",
       "\n",
       "    if (name === 'button_press')\n",
       "    {\n",
       "        this.canvas.focus();\n",
       "        this.canvas_div.focus();\n",
       "    }\n",
       "\n",
       "    var x = canvas_pos.x * mpl.ratio;\n",
       "    var y = canvas_pos.y * mpl.ratio;\n",
       "\n",
       "    this.send_message(name, {x: x, y: y, button: event.button,\n",
       "                             step: event.step,\n",
       "                             guiEvent: simpleKeys(event)});\n",
       "\n",
       "    /* This prevents the web browser from automatically changing to\n",
       "     * the text insertion cursor when the button is pressed.  We want\n",
       "     * to control all of the cursor setting manually through the\n",
       "     * 'cursor' event from matplotlib */\n",
       "    event.preventDefault();\n",
       "    return false;\n",
       "}\n",
       "\n",
       "mpl.figure.prototype._key_event_extra = function(event, name) {\n",
       "    // Handle any extra behaviour associated with a key event\n",
       "}\n",
       "\n",
       "mpl.figure.prototype.key_event = function(event, name) {\n",
       "\n",
       "    // Prevent repeat events\n",
       "    if (name == 'key_press')\n",
       "    {\n",
       "        if (event.which === this._key)\n",
       "            return;\n",
       "        else\n",
       "            this._key = event.which;\n",
       "    }\n",
       "    if (name == 'key_release')\n",
       "        this._key = null;\n",
       "\n",
       "    var value = '';\n",
       "    if (event.ctrlKey && event.which != 17)\n",
       "        value += \"ctrl+\";\n",
       "    if (event.altKey && event.which != 18)\n",
       "        value += \"alt+\";\n",
       "    if (event.shiftKey && event.which != 16)\n",
       "        value += \"shift+\";\n",
       "\n",
       "    value += 'k';\n",
       "    value += event.which.toString();\n",
       "\n",
       "    this._key_event_extra(event, name);\n",
       "\n",
       "    this.send_message(name, {key: value,\n",
       "                             guiEvent: simpleKeys(event)});\n",
       "    return false;\n",
       "}\n",
       "\n",
       "mpl.figure.prototype.toolbar_button_onclick = function(name) {\n",
       "    if (name == 'download') {\n",
       "        this.handle_save(this, null);\n",
       "    } else {\n",
       "        this.send_message(\"toolbar_button\", {name: name});\n",
       "    }\n",
       "};\n",
       "\n",
       "mpl.figure.prototype.toolbar_button_onmouseover = function(tooltip) {\n",
       "    this.message.textContent = tooltip;\n",
       "};\n",
       "mpl.toolbar_items = [[\"Home\", \"Reset original view\", \"fa fa-home icon-home\", \"home\"], [\"Back\", \"Back to previous view\", \"fa fa-arrow-left icon-arrow-left\", \"back\"], [\"Forward\", \"Forward to next view\", \"fa fa-arrow-right icon-arrow-right\", \"forward\"], [\"\", \"\", \"\", \"\"], [\"Pan\", \"Pan axes with left mouse, zoom with right\", \"fa fa-arrows icon-move\", \"pan\"], [\"Zoom\", \"Zoom to rectangle\", \"fa fa-square-o icon-check-empty\", \"zoom\"], [\"\", \"\", \"\", \"\"], [\"Download\", \"Download plot\", \"fa fa-floppy-o icon-save\", \"download\"]];\n",
       "\n",
       "mpl.extensions = [\"eps\", \"pdf\", \"png\", \"ps\", \"raw\", \"svg\"];\n",
       "\n",
       "mpl.default_extension = \"png\";var comm_websocket_adapter = function(comm) {\n",
       "    // Create a \"websocket\"-like object which calls the given IPython comm\n",
       "    // object with the appropriate methods. Currently this is a non binary\n",
       "    // socket, so there is still some room for performance tuning.\n",
       "    var ws = {};\n",
       "\n",
       "    ws.close = function() {\n",
       "        comm.close()\n",
       "    };\n",
       "    ws.send = function(m) {\n",
       "        //console.log('sending', m);\n",
       "        comm.send(m);\n",
       "    };\n",
       "    // Register the callback with on_msg.\n",
       "    comm.on_msg(function(msg) {\n",
       "        //console.log('receiving', msg['content']['data'], msg);\n",
       "        // Pass the mpl event to the overridden (by mpl) onmessage function.\n",
       "        ws.onmessage(msg['content']['data'])\n",
       "    });\n",
       "    return ws;\n",
       "}\n",
       "\n",
       "mpl.mpl_figure_comm = function(comm, msg) {\n",
       "    // This is the function which gets called when the mpl process\n",
       "    // starts-up an IPython Comm through the \"matplotlib\" channel.\n",
       "\n",
       "    var id = msg.content.data.id;\n",
       "    // Get hold of the div created by the display call when the Comm\n",
       "    // socket was opened in Python.\n",
       "    var element = $(\"#\" + id);\n",
       "    var ws_proxy = comm_websocket_adapter(comm)\n",
       "\n",
       "    function ondownload(figure, format) {\n",
       "        window.open(figure.imageObj.src);\n",
       "    }\n",
       "\n",
       "    var fig = new mpl.figure(id, ws_proxy,\n",
       "                           ondownload,\n",
       "                           element.get(0));\n",
       "\n",
       "    // Call onopen now - mpl needs it, as it is assuming we've passed it a real\n",
       "    // web socket which is closed, not our websocket->open comm proxy.\n",
       "    ws_proxy.onopen();\n",
       "\n",
       "    fig.parent_element = element.get(0);\n",
       "    fig.cell_info = mpl.find_output_cell(\"<div id='\" + id + \"'></div>\");\n",
       "    if (!fig.cell_info) {\n",
       "        console.error(\"Failed to find cell for figure\", id, fig);\n",
       "        return;\n",
       "    }\n",
       "\n",
       "    var output_index = fig.cell_info[2]\n",
       "    var cell = fig.cell_info[0];\n",
       "\n",
       "};\n",
       "\n",
       "mpl.figure.prototype.handle_close = function(fig, msg) {\n",
       "    var width = fig.canvas.width/mpl.ratio\n",
       "    fig.root.unbind('remove')\n",
       "\n",
       "    // Update the output cell to use the data from the current canvas.\n",
       "    fig.push_to_output();\n",
       "    var dataURL = fig.canvas.toDataURL();\n",
       "    // Re-enable the keyboard manager in IPython - without this line, in FF,\n",
       "    // the notebook keyboard shortcuts fail.\n",
       "    IPython.keyboard_manager.enable()\n",
       "    $(fig.parent_element).html('<img src=\"' + dataURL + '\" width=\"' + width + '\">');\n",
       "    fig.close_ws(fig, msg);\n",
       "}\n",
       "\n",
       "mpl.figure.prototype.close_ws = function(fig, msg){\n",
       "    fig.send_message('closing', msg);\n",
       "    // fig.ws.close()\n",
       "}\n",
       "\n",
       "mpl.figure.prototype.push_to_output = function(remove_interactive) {\n",
       "    // Turn the data on the canvas into data in the output cell.\n",
       "    var width = this.canvas.width/mpl.ratio\n",
       "    var dataURL = this.canvas.toDataURL();\n",
       "    this.cell_info[1]['text/html'] = '<img src=\"' + dataURL + '\" width=\"' + width + '\">';\n",
       "}\n",
       "\n",
       "mpl.figure.prototype.updated_canvas_event = function() {\n",
       "    // Tell IPython that the notebook contents must change.\n",
       "    IPython.notebook.set_dirty(true);\n",
       "    this.send_message(\"ack\", {});\n",
       "    var fig = this;\n",
       "    // Wait a second, then push the new image to the DOM so\n",
       "    // that it is saved nicely (might be nice to debounce this).\n",
       "    setTimeout(function () { fig.push_to_output() }, 1000);\n",
       "}\n",
       "\n",
       "mpl.figure.prototype._init_toolbar = function() {\n",
       "    var fig = this;\n",
       "\n",
       "    var nav_element = $('<div/>')\n",
       "    nav_element.attr('style', 'width: 100%');\n",
       "    this.root.append(nav_element);\n",
       "\n",
       "    // Define a callback function for later on.\n",
       "    function toolbar_event(event) {\n",
       "        return fig.toolbar_button_onclick(event['data']);\n",
       "    }\n",
       "    function toolbar_mouse_event(event) {\n",
       "        return fig.toolbar_button_onmouseover(event['data']);\n",
       "    }\n",
       "\n",
       "    for(var toolbar_ind in mpl.toolbar_items){\n",
       "        var name = mpl.toolbar_items[toolbar_ind][0];\n",
       "        var tooltip = mpl.toolbar_items[toolbar_ind][1];\n",
       "        var image = mpl.toolbar_items[toolbar_ind][2];\n",
       "        var method_name = mpl.toolbar_items[toolbar_ind][3];\n",
       "\n",
       "        if (!name) { continue; };\n",
       "\n",
       "        var button = $('<button class=\"btn btn-default\" href=\"#\" title=\"' + name + '\"><i class=\"fa ' + image + ' fa-lg\"></i></button>');\n",
       "        button.click(method_name, toolbar_event);\n",
       "        button.mouseover(tooltip, toolbar_mouse_event);\n",
       "        nav_element.append(button);\n",
       "    }\n",
       "\n",
       "    // Add the status bar.\n",
       "    var status_bar = $('<span class=\"mpl-message\" style=\"text-align:right; float: right;\"/>');\n",
       "    nav_element.append(status_bar);\n",
       "    this.message = status_bar[0];\n",
       "\n",
       "    // Add the close button to the window.\n",
       "    var buttongrp = $('<div class=\"btn-group inline pull-right\"></div>');\n",
       "    var button = $('<button class=\"btn btn-mini btn-primary\" href=\"#\" title=\"Stop Interaction\"><i class=\"fa fa-power-off icon-remove icon-large\"></i></button>');\n",
       "    button.click(function (evt) { fig.handle_close(fig, {}); } );\n",
       "    button.mouseover('Stop Interaction', toolbar_mouse_event);\n",
       "    buttongrp.append(button);\n",
       "    var titlebar = this.root.find($('.ui-dialog-titlebar'));\n",
       "    titlebar.prepend(buttongrp);\n",
       "}\n",
       "\n",
       "mpl.figure.prototype._root_extra_style = function(el){\n",
       "    var fig = this\n",
       "    el.on(\"remove\", function(){\n",
       "\tfig.close_ws(fig, {});\n",
       "    });\n",
       "}\n",
       "\n",
       "mpl.figure.prototype._canvas_extra_style = function(el){\n",
       "    // this is important to make the div 'focusable\n",
       "    el.attr('tabindex', 0)\n",
       "    // reach out to IPython and tell the keyboard manager to turn it's self\n",
       "    // off when our div gets focus\n",
       "\n",
       "    // location in version 3\n",
       "    if (IPython.notebook.keyboard_manager) {\n",
       "        IPython.notebook.keyboard_manager.register_events(el);\n",
       "    }\n",
       "    else {\n",
       "        // location in version 2\n",
       "        IPython.keyboard_manager.register_events(el);\n",
       "    }\n",
       "\n",
       "}\n",
       "\n",
       "mpl.figure.prototype._key_event_extra = function(event, name) {\n",
       "    var manager = IPython.notebook.keyboard_manager;\n",
       "    if (!manager)\n",
       "        manager = IPython.keyboard_manager;\n",
       "\n",
       "    // Check for shift+enter\n",
       "    if (event.shiftKey && event.which == 13) {\n",
       "        this.canvas_div.blur();\n",
       "        event.shiftKey = false;\n",
       "        // Send a \"J\" for go to next cell\n",
       "        event.which = 74;\n",
       "        event.keyCode = 74;\n",
       "        manager.command_mode();\n",
       "        manager.handle_keydown(event);\n",
       "    }\n",
       "}\n",
       "\n",
       "mpl.figure.prototype.handle_save = function(fig, msg) {\n",
       "    fig.ondownload(fig, null);\n",
       "}\n",
       "\n",
       "\n",
       "mpl.find_output_cell = function(html_output) {\n",
       "    // Return the cell and output element which can be found *uniquely* in the notebook.\n",
       "    // Note - this is a bit hacky, but it is done because the \"notebook_saving.Notebook\"\n",
       "    // IPython event is triggered only after the cells have been serialised, which for\n",
       "    // our purposes (turning an active figure into a static one), is too late.\n",
       "    var cells = IPython.notebook.get_cells();\n",
       "    var ncells = cells.length;\n",
       "    for (var i=0; i<ncells; i++) {\n",
       "        var cell = cells[i];\n",
       "        if (cell.cell_type === 'code'){\n",
       "            for (var j=0; j<cell.output_area.outputs.length; j++) {\n",
       "                var data = cell.output_area.outputs[j];\n",
       "                if (data.data) {\n",
       "                    // IPython >= 3 moved mimebundle to data attribute of output\n",
       "                    data = data.data;\n",
       "                }\n",
       "                if (data['text/html'] == html_output) {\n",
       "                    return [cell, data, j];\n",
       "                }\n",
       "            }\n",
       "        }\n",
       "    }\n",
       "}\n",
       "\n",
       "// Register the function which deals with the matplotlib target/channel.\n",
       "// The kernel may be null if the page has been refreshed.\n",
       "if (IPython.notebook.kernel != null) {\n",
       "    IPython.notebook.kernel.comm_manager.register_target('matplotlib', mpl.mpl_figure_comm);\n",
       "}\n"
      ],
      "text/plain": [
       "<IPython.core.display.Javascript object>"
      ]
     },
     "metadata": {},
     "output_type": "display_data"
    },
    {
     "data": {
      "text/html": [
       "<img src=\"data:image/png;base64,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\" width=\"1300\">"
      ],
      "text/plain": [
       "<IPython.core.display.HTML object>"
      ]
     },
     "metadata": {},
     "output_type": "display_data"
    },
    {
     "data": {
      "text/plain": [
       "<deeplabcut.refine_training_dataset.tracklets.TrackletManager at 0x7f8fed893390>"
      ]
     },
     "execution_count": 34,
     "metadata": {},
     "output_type": "execute_result"
    }
   ],
   "source": [
    "%matplotlib notebook\n",
    "picklefile ='/home/mackenzie/Desktop/penguindemoDLC_resnet50_mwmMar31shuffle3_30000tracks.pickle'\n",
    "deeplabcut.refine_tracklets(path_config_file, picklefile, videofile_path, min_swap_frac=0,min_tracklet_frac=0)"
   ]
  },
  {
   "cell_type": "markdown",
   "metadata": {
    "colab_type": "text",
    "id": "QQ3T3oykywnw"
   },
   "source": [
    "## Create labeled videos\n",
    "\n",
    "This function is for the visualization purpose and can be used to create a video in .mp4 format with the predicted labels. This video is saved in the same directory, where the (unlabeled) video resides. \n",
    "\n",
    "Various parameters can be set with regard to the colormap and the dotsize (matplotlib is used in the backend). See the `config.yaml` file for how to set these."
   ]
  },
  {
   "cell_type": "code",
   "execution_count": null,
   "metadata": {
    "colab": {},
    "colab_type": "code",
    "id": "GhI9KLs4ywn0",
    "scrolled": true
   },
   "outputs": [],
   "source": [
    "deeplabcut.create_labeled_video(path_config_file,[videofile_path], shuffle=shuffle, draw_skeleton=True, videotype='mp4', save_frames=False)"
   ]
  },
  {
   "cell_type": "markdown",
   "metadata": {
    "colab_type": "text",
    "id": "IErvm1K5ywn5"
   },
   "source": [
    "## Plot the trajectories of the analyzed videos\n",
    "This function plots the trajectories of all the body parts across the entire video. Each body part is identified by a unique color. The underlying functions can easily be customized."
   ]
  },
  {
   "cell_type": "code",
   "execution_count": 40,
   "metadata": {
    "colab": {},
    "colab_type": "code",
    "id": "mP2useJgywn7",
    "scrolled": true
   },
   "outputs": [
    {
     "name": "stdout",
     "output_type": "stream",
     "text": [
      "Starting %  /home/mackenzie/Desktop /home/mackenzie/Desktop/penguindemo.mp4\n",
      "No data were found in /home/mackenzie/Desktop.\n",
      "The video was not analyzed with this scorer: DLC_resnet50_mwmMar31shuffle3_30000\n",
      "Plots could not be created! Videos were not evaluated with the current scorer DLC_resnet50_mwmMar31shuffle3_30000.\n"
     ]
    }
   ],
   "source": [
    "deeplabcut.plot_trajectories(path_config_file,[videofile_path],shuffle=shuffle,showfigures=True, videotype='mp4')\n",
    "#These plots can are interactive and can be customized (see https://matplotlib.org/)"
   ]
  },
  {
   "cell_type": "markdown",
   "metadata": {
    "colab_type": "text",
    "id": "a5nOaWzXywoB"
   },
   "source": [
    "## Extract outlier frames, where the predictions are off.\n",
    "\n",
    "This is optional step allows to add more training data when the evaluation results are poor. In such a case, the user can use the following function to extract frames where the labels are incorrectly predicted. Make sure to provide the correct value of the \"iterations\" as it will be used to create the unique directory where the extracted frames will be saved."
   ]
  },
  {
   "cell_type": "code",
   "execution_count": null,
   "metadata": {},
   "outputs": [],
   "source": [
    "# Note, if you have questions on parameters, remember \"?\" gives you answers:\n",
    "deeplabcut.extract_outlier_frames?"
   ]
  },
  {
   "cell_type": "code",
   "execution_count": null,
   "metadata": {
    "colab": {},
    "colab_type": "code",
    "id": "RJGiDKuUywoC",
    "scrolled": false
   },
   "outputs": [],
   "source": [
    "deeplabcut.extract_outlier_frames(path_config_file,videofile_path,outlieralgorithm='uncertain',p_bound=.2)"
   ]
  },
  {
   "cell_type": "markdown",
   "metadata": {
    "colab_type": "text",
    "id": "jHjpscPcywoG"
   },
   "source": [
    "The user can run this iteratively, and (even) extract additional frames from the same video."
   ]
  },
  {
   "cell_type": "markdown",
   "metadata": {
    "colab_type": "text",
    "id": "uaNUm3NSywoH"
   },
   "source": [
    "## Manually correct labels\n",
    "\n",
    "This step allows the user to correct the labels in the extracted frames. Navigate to the folder with the videos and use the GUI as described in the protocol to update the labels."
   ]
  },
  {
   "cell_type": "code",
   "execution_count": null,
   "metadata": {
    "colab": {},
    "colab_type": "code",
    "id": "OJDvJMcrywoI",
    "scrolled": false
   },
   "outputs": [],
   "source": [
    "#GUI pops up! \n",
    "#sometimes you need to restart the kernel for the GUI to launch.\n",
    "%gui wx\n",
    "deeplabcut.refine_labels(path_config_file)"
   ]
  },
  {
   "cell_type": "code",
   "execution_count": null,
   "metadata": {
    "colab": {},
    "colab_type": "code",
    "id": "mcuqoeRbywoL"
   },
   "outputs": [],
   "source": [
    "# Now merge datasets (once you refined all frames)\n",
    "deeplabcut.merge_datasets(path_config_file)"
   ]
  },
  {
   "cell_type": "markdown",
   "metadata": {
    "colab_type": "text",
    "id": "WRB9KgGsywoP"
   },
   "source": [
    "## Create a new iteration of training dataset, check it and train...\n",
    "\n",
    "Following the refine labels, append these frames to the original dataset to create a new iteration of training dataset."
   ]
  },
  {
   "cell_type": "code",
   "execution_count": null,
   "metadata": {
    "colab": {},
    "colab_type": "code",
    "id": "Y7efellnywoT"
   },
   "outputs": [],
   "source": [
    "#Perhaps plot the labels to see how how all the frames are annotated (including the refined ones)\n",
    "deeplabcut.check_labels(path_config_file)\n",
    "# if they are off, you can load them in the labeling_gui to adjust!"
   ]
  },
  {
   "cell_type": "code",
   "execution_count": null,
   "metadata": {
    "colab": {},
    "colab_type": "code",
    "id": "NGHghXfdywoQ"
   },
   "outputs": [],
   "source": [
    "deeplabcut.create_training_dataset(path_config_file)"
   ]
  },
  {
   "cell_type": "markdown",
   "metadata": {
    "colab_type": "text",
    "id": "8fhL6nG2ywoW"
   },
   "source": [
    "Now one can train the network again... (with the expanded data set)"
   ]
  },
  {
   "cell_type": "code",
   "execution_count": null,
   "metadata": {
    "colab": {},
    "colab_type": "code",
    "id": "cAUxg5sgywoX"
   },
   "outputs": [],
   "source": [
    "deeplabcut.train_network(path_config_file)"
   ]
  }
 ],
 "metadata": {
  "accelerator": "GPU",
  "colab": {
   "name": "Demo-labeledexample-MouseReaching.ipynb",
   "provenance": [],
   "version": "0.3.2"
  },
  "kernelspec": {
   "display_name": "Python 3",
   "language": "python",
   "name": "python3"
  },
  "language_info": {
   "codemirror_mode": {
    "name": "ipython",
    "version": 3
   },
   "file_extension": ".py",
   "mimetype": "text/x-python",
   "name": "python",
   "nbconvert_exporter": "python",
   "pygments_lexer": "ipython3",
   "version": "3.7.6"
  },
  "varInspector": {
   "cols": {
    "lenName": 16,
    "lenType": 16,
    "lenVar": 40
   },
   "kernels_config": {
    "python": {
     "delete_cmd_postfix": "",
     "delete_cmd_prefix": "del ",
     "library": "var_list.py",
     "varRefreshCmd": "print(var_dic_list())"
    },
    "r": {
     "delete_cmd_postfix": ") ",
     "delete_cmd_prefix": "rm(",
     "library": "var_list.r",
     "varRefreshCmd": "cat(var_dic_list()) "
    }
   },
   "types_to_exclude": [
    "module",
    "function",
    "builtin_function_or_method",
    "instance",
    "_Feature"
   ],
   "window_display": false
  }
 },
 "nbformat": 4,
 "nbformat_minor": 1
}
